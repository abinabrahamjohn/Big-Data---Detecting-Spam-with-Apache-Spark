{
 "cells": [
  {
   "cell_type": "code",
   "execution_count": null,
   "metadata": {},
   "outputs": [],
   "source": []
  },
  {
   "cell_type": "markdown",
   "metadata": {
    "colab_type": "text",
    "id": "x3aJEGS5keqH"
   },
   "source": [
    "# Coursework Part 1: Detecting Spam with Spark\n",
    "\n",
    "These are the tasks for IN432 Big Data coursework 2020, part 1.  \n",
    "\n",
    "This coursework is about classification of e-mail messages as spam or non-spam in Spark. We will go through the whole process from loading and preprocessing to training and testing classifiers in a distributed way in Spark. We wil use the techniques shown in the lextures and labs. A few additional elements will be introduced here, such as the Natural Language ToolKit (NLTK) and some of the preprocessing and machine learning functions that come with Spark. You are not expected to need anything beyond the material handed out so far and in some cases the Spark documentation, which is linked from this document.  \n",
    "\n",
    "The structure is similar to the lab sheets. A code structure is provided with gaps that you are supposed to fill in. In addition you should run 2 small experiments and comment on the results. The lines where you are supposed to add code or take another action are marked with \">>>\" \n",
    "please leave the \">>>\" in the text, comment out that line, and write your own code in the next line using a copy of that line as a starting point.\n",
    "\n",
    "Numerous comments have been added in the text and code cells to guide you through the program. Please read them carefully and ask if anything is unclear. \n",
    "\n",
    "Once you have completed the tasks, don't delete the outputs, but download the notebook by clicking on *File* ➡︎ *Download .ipynb* (outputs will be included) and upload it into the coursework submission area on Moodle. This part counts for 50% of the total coursework."
   ]
  },
  {
   "cell_type": "markdown",
   "metadata": {
    "colab_type": "text",
    "id": "CdFlCqCFkeqL"
   },
   "source": [
    "## Load and prepare the data\n",
    "\n",
    "We will use the lingspam dataset in this coursework (see [http://csmining.org/index.php/ling-spam-datasets.html](http://csmining.org/index.php/ling-spam-datasets.html) for more information).\n",
    "\n",
    "The next cells only prepare the machine, as usual."
   ]
  },
  {
   "cell_type": "code",
   "execution_count": 1,
   "metadata": {
    "colab": {
     "base_uri": "https://localhost:8080/",
     "height": 35
    },
    "colab_type": "code",
    "id": "dHGQ78mTkeqO",
    "outputId": "cc98bb33-26db-4278-ec30-a94f8b57aabb"
   },
   "outputs": [
    {
     "name": "stdout",
     "output_type": "stream",
     "text": [
      "Drive already mounted at /content/drive; to attempt to forcibly remount, call drive.mount(\"/content/drive\", force_remount=True).\n"
     ]
    }
   ],
   "source": [
    "# Load the Drive helper and mount\n",
    "from google.colab import drive\n",
    "\n",
    "# This will prompt for authorization.\n",
    "drive.mount('/content/drive')"
   ]
  },
  {
   "cell_type": "code",
   "execution_count": 2,
   "metadata": {
    "colab": {
     "base_uri": "https://localhost:8080/",
     "height": 87
    },
    "colab_type": "code",
    "id": "0-hhNOS0keqW",
    "outputId": "9db16196-c02a-4d8a-98ff-44548d47f4df"
   },
   "outputs": [
    {
     "name": "stdout",
     "output_type": "stream",
     "text": [
      "/root\n",
      "/content\n",
      "<SparkContext master=local[*] appName=pyspark-shell>\n",
      "<pyspark.sql.session.SparkSession object at 0x7f7fd88a37f0>\n"
     ]
    }
   ],
   "source": [
    "%cd\n",
    "!apt-get install openjdk-8-jdk-headless -qq > /dev/null\n",
    "!wget -q https://archive.apache.org/dist/spark/spark-2.4.5/spark-2.4.5-bin-hadoop2.7.tgz\n",
    "!tar -xvf spark-2.4.5-bin-hadoop2.7.tgz > /dev/null\n",
    "!pip install -q findspark\n",
    "import os \n",
    "os.environ[\"JAVA_HOME\"] = \"/usr/lib/jvm/java-8-openjdk-amd64\"\n",
    "os.environ[\"SPARK_HOME\"] = \"/root/spark-2.4.5-bin-hadoop2.7\"\n",
    "%cd /content\n",
    "import findspark\n",
    "findspark.init()\n",
    "\n",
    "import pyspark\n",
    "# get a spark context\n",
    "sc = pyspark.SparkContext.getOrCreate()\n",
    "print(sc)\n",
    "# get the context\n",
    "spark = pyspark.sql.SparkSession.builder.getOrCreate()\n",
    "print(spark) "
   ]
  },
  {
   "cell_type": "code",
   "execution_count": 3,
   "metadata": {
    "colab": {
     "base_uri": "https://localhost:8080/",
     "height": 641
    },
    "colab_type": "code",
    "id": "nncrHFdwqUmE",
    "outputId": "b52d216e-9ad8-418b-c3a1-d7ffa256a3d4"
   },
   "outputs": [
    {
     "name": "stdout",
     "output_type": "stream",
     "text": [
      "/content/drive/My Drive/BigData2020/data/lingspam_public\n",
      "This directory contains the Ling-Spam corpus, as described in the \n",
      "paper:\n",
      "\n",
      "I. Androutsopoulos, J. Koutsias, K.V. Chandrinos, George Paliouras, \n",
      "and C.D. Spyropoulos, \"An Evaluation of Naive Bayesian Anti-Spam \n",
      "Filtering\". In Potamias, G., Moustakis, V. and van Someren, M. (Eds.), \n",
      "Proceedings of the Workshop on Machine Learning in the New Information \n",
      "Age, 11th European Conference on Machine Learning (ECML 2000), \n",
      "Barcelona, Spain, pp. 9-17, 2000.\n",
      "\n",
      "There are four subdirectories, corresponding to four versions of \n",
      "the corpus:\n",
      "\n",
      "bare: Lemmatiser disabled, stop-list disabled.\n",
      "lemm: Lemmatiser enabled, stop-list disabled.\n",
      "lemm_stop: Lemmatiser enabled, stop-list enabled.\n",
      "stop: Lemmatiser disabled, stop-list enabled.\n",
      "\n",
      "Each one of these 4 directories contains 10 subdirectories (part1, \n",
      "..., part10). These correspond to the 10 partitions of the corpus \n",
      "that were used in the 10-fold experiments. In each repetition, one \n",
      "part was reserved for testing and the other 9 were used for training. \n",
      "\n",
      "Each one of the 10 subdirectories contains both spam and legitimate \n",
      "messages, one message in each file. Files whose names have the form\n",
      "spmsg*.txt are spam messages. All other files are legitimate messages.\n",
      "\n",
      "By obtaining a copy of this corpus you agree to acknowledge the use \n",
      "and origin of the corpus in any published work of yours that makes \n",
      "use of the corpus, and to notify the person below about this work.\n",
      "\n",
      "Ion Androutsopoulos \n",
      "http://www.aueb.gr/users/ion/\n",
      "Ling-Spam corpus last updated: July 17, 2000\n",
      "This file (readme.txt) last updated: July 30, 2003.\n"
     ]
    }
   ],
   "source": [
    "# We have a new dataset in directory BigData2020/data/lingspam_public .\n",
    "%cd /content/drive/My Drive/BigData2020/data/lingspam_public \n",
    "# the line above should output should show \"bare  lemm  lemm_stop  readme.txt  stop\"\n",
    "!cat readme.txt\n",
    "# the line above shows the content of the readme file, which explains the structure of the dataset\n",
    "# Lemmatisation is a process similar to stemming"
   ]
  },
  {
   "cell_type": "markdown",
   "metadata": {
    "colab_type": "text",
    "id": "nb02XcMOkeqq"
   },
   "source": [
    "## Task 1) Read the dataset and create RDDs \n",
    "a) Start by reading the directory with text files from the file system (`/content/drive/My Drive/BigData2020/data/lingspam_public`). Load all text files per directory (`part1, part2, ... , part10`) using `wholeTextFiles()`, which creates one RDD per part, containing tuples `(filename, text)`. This is a good choice as the text files are small. (5%)\n",
    "\n",
    "b) We will use one of the RDDs as test set, the rest as training set. For the training set you need to create the union of the remaining RDDs. (5%)\n",
    "\n",
    "c) Remove the path and extension from the filename using the regular expression provided. (5%)\n",
    "\n",
    "If the filename starts with 'spmsg' it is spam, otherwise it is not. We'll use that later to train a classifier. \n",
    "\n",
    "We will put the code in each cell into a function that we can reuse later. This way, we can develop the whole preprocessing with the smaller test set and apply it to the training set once we know that everything works. "
   ]
  },
  {
   "cell_type": "code",
   "execution_count": 4,
   "metadata": {
    "colab": {
     "base_uri": "https://localhost:8080/",
     "height": 419
    },
    "colab_type": "code",
    "id": "H7iF1lZukeqt",
    "outputId": "cb9cf94a-0ed7-49c7-b19c-f8a904d74da6"
   },
   "outputs": [
    {
     "name": "stdout",
     "output_type": "stream",
     "text": [
      "/content/drive/My Drive/BigData2020/data/lingspam_public\n",
      "bare  lemm  lemm_stop  readme.txt  stop\n",
      "[PosixPath('bare/part10'), PosixPath('bare/part9'), PosixPath('bare/part8'), PosixPath('bare/part7'), PosixPath('bare/part6'), PosixPath('bare/part5'), PosixPath('bare/part4'), PosixPath('bare/part3'), PosixPath('bare/part2'), PosixPath('bare/part1')]\n",
      "creating RDDs\n",
      "/content/drive/My Drive/BigData2020/data/lingspam_public/bare/part10\n",
      "/content/drive/My Drive/BigData2020/data/lingspam_public/bare/part9\n",
      "/content/drive/My Drive/BigData2020/data/lingspam_public/bare/part8\n",
      "/content/drive/My Drive/BigData2020/data/lingspam_public/bare/part7\n",
      "/content/drive/My Drive/BigData2020/data/lingspam_public/bare/part6\n",
      "/content/drive/My Drive/BigData2020/data/lingspam_public/bare/part5\n",
      "/content/drive/My Drive/BigData2020/data/lingspam_public/bare/part4\n",
      "/content/drive/My Drive/BigData2020/data/lingspam_public/bare/part3\n",
      "/content/drive/My Drive/BigData2020/data/lingspam_public/bare/part2\n",
      "/content/drive/My Drive/BigData2020/data/lingspam_public/bare/part1\n",
      "len(rddList) 10\n",
      "[('file:/content/drive/My Drive/BigData2020/data/lingspam_public/bare/part9/8-817msg1.txt', 'Subject: disc : grammar in uk schools\\n\\ni was disturbed to find some traditional fallacies in geoffrey sampson \\'s discussion of the teaching of grammar in schools . though i no longer have a copy of prof . cameron \\'s original post , i do recall the essentials of it , and found that mr . sampson had passed over the valid point it was making in favour of a prescriptivist , \" back to basics \" defense of traditional grammatical education . prof . cameron is perfectly correct in ridiculing the inflexible , rote and prescriptive approach to grammar which is conventionally inflicted on students throughout the english speaking world . the issue of being able to use standard english ( or perhaps _ a _ standard english ) correctly is entirely separate from the reliance on traditional \" rules \" which are frequently unhelpful , and often grossly inaccurate . the rule regarding finishing sentences with prepositions , as one glaring example , is a total misunderstanding of both the history of english , and an unhelpful preoccupation for effective communication . > strikes me as akin to suggesting that teachers of > french should forget about teaching the past participle of \" vivre \" in > favour of getting their pupils to develop considered opinions about > the theories of derrida . though mr . sampson has used an interesting rhetorical image here , it is in fact a false analogy . teaching students to get a feel for the function of grammar and language is a far cry from teaching them gb theory or hpsg . an understanding of how sentences , clauses , verb tenses , adverbs , etc . actually function on a basic level is a very reasonable educational goal , and far more worthy then just creating a bunch of \" do n\\'t \" \\'s and \" never \" \\'s and calling that grammatical education . > beyond that , though , teaching orthography and grammar at school level > has a much broader educational value . one of the lessons we all have > to learn is that nothing big and worthwhile is ever achieved in this > life without careful attention to endless tedious and often arbitrary > details . at the risk of making a gross national stereotype , i feel compelled to quote george bernard shaw : \" the british believe that they are moral when they are merely uncomfortable . \" this notion that education ( or work , for that matter ) must be unpleasant to produce results is a puritanical relic . in my personal experience , the very successful people tend to be precisely the ones who know how to delegate , slough off or avoid wasting time with \" tedious and arbitrary details \" . ( please read the preceding paragraph with the tongue planted in the general vicinity of the cheek . ) in a spirit of greater seriousness though , i would like to second prof . cameron \\'s call to educators to abandon prescriptive , rule-based approaches to grammar , and embrace a more general approach based on a comprehension of more fluid and meaningful principles . i believe that the result would be students with a better grasp of the form and function of language rather than a shallow and inflexible mastery of facile rules . - - - - marc hamann\\n')]\n",
      "creating RDD union\n",
      "created the RDDs\n",
      "testRDD.count():  289\n",
      "testRDD.getNumPartitions(): 2\n",
      "testRDD.getStorageLevel(): Serialized 1x Replicated\n",
      "testRDD.take(1):  [('3-1msg1', 'Subject: re : 2 . 882 s - > np np\\n\\n> date : sun , 15 dec 91 02 : 25 : 02 est > from : michael < mmorse @ vm1 . yorku . ca > > subject : re : 2 . 864 queries > > wlodek zadrozny asks if there is \" anything interesting \" to be said > about the construction \" s > np np \" . . . second , > and very much related : might we consider the construction to be a form > of what has been discussed on this list of late as reduplication ? the > logical sense of \" john mcnamara the name \" is tautologous and thus , at > that level , indistinguishable from \" well , well now , what have we here ? \" . to say that \\' john mcnamara the name \\' is tautologous is to give support to those who say that a logic-based semantics is irrelevant to natural language . in what sense is it tautologous ? it supplies the value of an attribute followed by the attribute of which it is the value . if in fact the value of the name-attribute for the relevant entity were \\' chaim shmendrik \\' , \\' john mcnamara the name \\' would be false . no tautology , this . ( and no reduplication , either . )\\n')]\n"
     ]
    }
   ],
   "source": [
    "from pathlib import Path\n",
    "import re\n",
    "\n",
    "def makeTestTrainRDDs(pathString):\n",
    "    \"\"\" Takes one of the four subdirectories of the lingspam dataset and returns two RDDs one each for testing and training. \"\"\"\n",
    "    # We should see 10 parts that we can use for creating train and test sets.\n",
    "    p = Path(pathString) # gets a path object representing the current directory path.\n",
    "    dirs = list(p.iterdir()) # get the directories part1 ... part10. \n",
    "    print(dirs) # Print to check that you have the right directory. You can comment this out when checked. \n",
    "    rddList = [] # create a list for the RDDs\n",
    "    # now create an RDD for each 'part' directory and add them to rddList\n",
    "    print('creating RDDs')\n",
    "    for d in dirs: # iterate through the directories\n",
    "        dir_path = str(d.resolve())\n",
    "        print(dir_path)\n",
    "        #>>>     rdd = ... #>>> # read the files in the directory \n",
    "        rdd = sc.wholeTextFiles(dir_path)#>>> # read the files in the directory \n",
    "        #>>>     ... #>>> append the RDD to the rddList\n",
    "        rddList.append(rdd) #>>> append the RDD to the rddList\n",
    "    print('len(rddList)', len(rddList))  # we should now have 10 RDDs in the list # just for testing\n",
    "    print(rddList[1].take(1)) # just for testing, comment out when it works.\n",
    "\n",
    "    testRDD1 = rddList[9] # set the test set\n",
    "    trainRDD1 = rddList[0] # start the training set from 0 and \n",
    "    # now loop over the range from 1 to 9 (exclusive) to create a union of the remaining RDDs\n",
    "    print('creating RDD union')\n",
    "    for i in range(1, 9):\n",
    "        trainRDD1 = trainRDD1.union(rddList[i]) #>>> create a union of the current and the next \n",
    "            # RDD in the list, so that in the end we have a union of all parts 0-8. (9 is used as test set)\n",
    "    # both RDDs should remove the paths and extensions from the filename. \n",
    "    #>>> This regular expression will do it: re.split('[/\\.]', fn_txt[0])[-2]\n",
    "    #>>> apply it to the filenames in train and test RDD with a lambda\n",
    "    #>>>    testRDD2 = testRDD1.map(lambda ...) \n",
    "        testRDD2 = testRDD1.map(lambda fn_txt:(re.split('[/\\.]', fn_txt[0])[-2],fn_txt[1]))\n",
    "    #>>>    trainRDD2 = trainRDD1.map(lambda ...) \n",
    "        trainRDD2 = trainRDD1.map(lambda fn_txt:(re.split('[/\\.]', fn_txt[0])[-2],fn_txt[1]))\n",
    "    return (trainRDD2, testRDD2)\n",
    "\n",
    "# this makes sure we are in the right directory\n",
    "%cd /content/drive/My Drive/BigData2020/data/lingspam_public \n",
    "# this should show \"bare  lemm  lemm_stop  readme.txt  stop\"\n",
    "!ls \n",
    "# the code below is for testing the function makeTestTrainRDDs\n",
    "trainRDD_testRDD = makeTestTrainRDDs('bare') # read from the 'bare' directory - this takes a bit of time\n",
    "(trainRDD, testRDD) = trainRDD_testRDD # unpack the returned tuple\n",
    "print('created the RDDs') # notify the user, so that we can figure out where things went wrong if they do.\n",
    "print('testRDD.count(): ', testRDD.count()) # should be ~289\n",
    "#print('trainRDD.count(): ', trainRDD.count()) # should be ~2604 - commented out to save time as it takes some time to create RDD from all the files\n",
    "print('testRDD.getNumPartitions():', testRDD.getNumPartitions()) # normally 2 on Colab (single machine)\n",
    "print('testRDD.getStorageLevel():', testRDD.getStorageLevel()) # Serialized, 1x Replicated, expected to be (False, False, False, False, 1) \n",
    "print('testRDD.take(1): ', testRDD.take(1)) # should be (filename, [tokens]) \n",
    "rdd1 = testRDD # use this for development in the next tasks "
   ]
  },
  {
   "cell_type": "markdown",
   "metadata": {
    "colab_type": "text",
    "id": "oUKltxq5keqw"
   },
   "source": [
    "## Task 2) Tokenize and remove punctuation\n",
    "\n",
    "Now we need to split the words, a process called *tokenization* by linguists, and remove punctuation. \n",
    "\n",
    "a) We will use the Python [Natural Language Toolkit](http://www.nltk.org) (*NLTK*) to do the tokenization (rather than splitting ourselves, as these specialist tools usually do that better than we can ourselves). We use the NLTK function word_tokenize, see here for a code example: [http://www.nltk.org/book/ch03.html](http://www.nltk.org/book/ch03.html). (5%)\n",
    "\n",
    "b) Then we will remove punctuation. There is no specific function for this, so we use a regular expression (see here for info [https://docs.python.org/3/library/re.html#module-re](https://docs.python.org/3/library/re.html#module-re)) in a list comprehension (here's a nice visual explanation: [http://treyhunner.com/2015/12/python-list-comprehensions-now-in-color/](http://treyhunner.com/2015/12/python-list-comprehensions-now-in-color/)). (5%)\n",
    "\n",
    "c) We use a new technique here: we separate keys and values of the RDD, using the RDD functions `keys()` and `values()`, each of which yield a new RDD. Then we process the values and *zip* them together with the keys again. See here for documentation: [http://spark.apache.org/docs/2.4.5/api/python/pyspark.html#pyspark.RDD.zip](http://spark.apache.org/docs/2.4.5/api/python/pyspark.html#pyspark.RDD.zip).  We wrap the whole sequence into one function `prepareTokenRDD` for later use. (5%)"
   ]
  },
  {
   "cell_type": "code",
   "execution_count": 5,
   "metadata": {
    "colab": {
     "base_uri": "https://localhost:8080/",
     "height": 55
    },
    "colab_type": "code",
    "id": "AB_nfmhYkeqx",
    "outputId": "9f51d237-deb9-46b9-92f7-2570f814c79e",
    "scrolled": true
   },
   "outputs": [
    {
     "name": "stdout",
     "output_type": "stream",
     "text": [
      "[('3-1msg1', ['Subject', ':', 're', ':', '2', '882', 's', '-', '>', 'np', 'np', '>', 'date', ':', 'sun', '15', 'dec', '91', '02', ':', '25', ':', '02', 'est', '>', 'from', ':', 'michael', '<', 'mmorse', '@', 'vm1', 'yorku', 'ca', '>', '>', 'subject', ':', 're', ':', '2', '864', 'queries', '>', '>', 'wlodek', 'zadrozny', 'asks', 'if', 'there', 'is', '``', 'anything', 'interesting', '``', 'to', 'be', 'said', '>', 'about', 'the', 'construction', '``', 's', '>', 'np', 'np', '``', 'second', '>', 'and', 'very', 'much', 'related', ':', 'might', 'we', 'consider', 'the', 'construction', 'to', 'be', 'a', 'form', '>', 'of', 'what', 'has', 'been', 'discussed', 'on', 'this', 'list', 'of', 'late', 'as', 'reduplication', 'the', '>', 'logical', 'sense', 'of', '``', 'john', 'mcnamara', 'the', 'name', '``', 'is', 'tautologous', 'and', 'thus', 'at', '>', 'that', 'level', 'indistinguishable', 'from', '``', 'well', 'well', 'now', 'what', 'have', 'we', 'here', '``', 'to', 'say', 'that', \"'\", 'john', 'mcnamara', 'the', 'name', \"'\", 'is', 'tautologous', 'is', 'to', 'give', 'support', 'to', 'those', 'who', 'say', 'that', 'a', 'logic-based', 'semantics', 'is', 'irrelevant', 'to', 'natural', 'language', 'in', 'what', 'sense', 'is', 'it', 'tautologous', 'it', 'supplies', 'the', 'value', 'of', 'an', 'attribute', 'followed', 'by', 'the', 'attribute', 'of', 'which', 'it', 'is', 'the', 'value', 'if', 'in', 'fact', 'the', 'value', 'of', 'the', 'name-attribute', 'for', 'the', 'relevant', 'entity', 'were', \"'\", 'chaim', 'shmendrik', \"'\", \"'\", 'john', 'mcnamara', 'the', 'name', \"'\", 'would', 'be', 'false', 'no', 'tautology', 'this', 'and', 'no', 'reduplication', 'either'])]\n"
     ]
    }
   ],
   "source": [
    "import nltk\n",
    "import re\n",
    "from nltk.corpus import stopwords\n",
    "\n",
    "def tokenize(text):\n",
    "    \"\"\" Apply the nltk.word_tokenize() method to our text, return the token list. \"\"\"\n",
    "    nltk.download('punkt') #  loads the standard NLTK tokenizer model \n",
    "    # it is important that this is done here in the function, as it needs to be done on every worker.\n",
    "    # If we do the download outside a this function, it would only be executed on the driver  \n",
    "    #>>>    return ... # use the nltk function word_tokenize   \n",
    "    return nltk.word_tokenize(text) # use the nltk function word_tokenize\n",
    "    \n",
    "def removePunctuation(tokens):\n",
    "    \"\"\" Remove punctuation characters from all tokens in a provided list. \"\"\"\n",
    "    # this will remove all punctiation from string s: re.sub('[()\\[\\],.?!\";_]','', s)\n",
    "    #>>>    tokens2 =  [...] # use a list comprehension to remove punctuaton\n",
    "    tokens2 = [re.sub('[()\\[\\],.?!\";_]','', token) for token in tokens]# use a list comprehension to remove punctuaton\n",
    "    return tokens2\n",
    "    \n",
    "def prepareTokenRDD(fn_txt_RDD):\n",
    "    \"\"\" Take an RDD with (filename, text) elements and transform it into a (filename, [token ...]) RDD without punctuation characters. \"\"\"\n",
    "    rdd_vals2 = fn_txt_RDD.values() # It's convenient to process only the values. \n",
    "    rdd_vals3 = rdd_vals2.map(tokenize) # Create a tokenised version of the values by mapping\n",
    "    rdd_vals4 = rdd_vals3.map(removePunctuation) # remove punctuation from the values\n",
    "    rdd_kv = fn_txt_RDD.keys().zip(rdd_vals4) # we zip the two RDDs together \n",
    "    # i.e. produce tuples with one item from each RDD.\n",
    "    # This works because we have only applied mappings to the values, \n",
    "    # therefore the items in both RDDs are still aligned.\n",
    "    # >>> now remove any empty strings (i.e. length 0) that we may have \n",
    "    # created by removing punctuation, and resulting entries without words left.\n",
    "    #rdd_kvr = rdd_kv ... # remove empty strings from token lists using RDD.map and a lambda. TIP len(s) gives you the lenght of string. \n",
    "    rdd_kvr = rdd_kv.map(lambda fn_tkns: (fn_tkns[0], [token for token in fn_tkns[1] if len(token)>0]))\n",
    "    #rdd_kvrf = rdd_kvr ... # remove empty token lists using RDD.filter and a lambda.\n",
    "    rdd_kvrf = rdd_kvr.filter(lambda fn_tkns: len(fn_tkns[1])>0)\n",
    "    # >>> Question: why should this be filtering done after zipping the keys and values together?\n",
    "    return rdd_kvrf \n",
    "\n",
    "rdd2 = prepareTokenRDD(rdd1) # Use a small RDD for testing.\n",
    "print(rdd2.take(1)) # For checking result of task 2. "
   ]
  },
  {
   "cell_type": "markdown",
   "metadata": {
    "colab_type": "text",
    "id": "Lmh8aZHyIw89"
   },
   "source": [
    "Question: Why should this be filtering done after zipping the keys and values together?\n",
    "\n",
    "Response: When we zip the keys and values together this produces tuples with one item from each RDD.By filtering afterwards we are able to track the values back to the filename."
   ]
  },
  {
   "cell_type": "markdown",
   "metadata": {
    "colab_type": "text",
    "id": "q9HgRAEGkeq0"
   },
   "source": [
    "## Task 3) Creating normalised TF.IDF vectors of defined dimensionality.\n",
    "\n",
    "We use the hashing trick to create fixed size TF vectors directly from the word list now (slightly different from the previous lab, where we used `(word, count)` pairs.). Write a bit of code as needed. (5%)\n",
    "\n",
    "Then we'll use the IDF and Normalizer functions provided by Spark. They use a slightly different pattern than RDD.map and reduce, have a look at the examples here in the documentation for Normalizer  and IDF:\n",
    "[http://spark.apache.org/docs/2.4.5/api/python/pyspark.mllib.html#pyspark.mllib.feature.Normalizer](http://spark.apache.org/docs/2.4.5/api/python/pyspark.mllib.html#pyspark.mllib.feature.Normalizer), [http://spark.apache.org/docs/2.4.5/api/python/pyspark.mllib.html#pyspark.mllib.feature.IDF](http://spark.apache.org/docs/2.4.5/api/python/pyspark.mllib.html#pyspark.mllib.feature.IDF). (5%)\n",
    "\n",
    "We want control of the dimensionality in the `normTFIDF` function, so we introduce an argument into our functions that enables us to vary dimensionalty later. (5%)"
   ]
  },
  {
   "cell_type": "code",
   "execution_count": 6,
   "metadata": {
    "colab": {
     "base_uri": "https://localhost:8080/",
     "height": 35
    },
    "colab_type": "code",
    "id": "Qo_YQKAokeq0",
    "outputId": "c4fdb3bb-32db-49c7-ffd5-579235dd22fb"
   },
   "outputs": [
    {
     "name": "stdout",
     "output_type": "stream",
     "text": [
      "[('3-1msg1', DenseVector([0.0, 0.1629, 0.6826, 0.0, 0.0, 0.0, 0.4017, 0.3258, 0.3133, 0.3766]))]\n"
     ]
    }
   ],
   "source": [
    "# use the hashing trick to create a fixed-size vector from a word list\n",
    "def hashing_vectorize(text, N): # arguments: the list and the size of the output vector\n",
    "    v = [0] * N  # create vector of 0s\n",
    "    for word in text: # iterate through the words \n",
    "      #>>>        # get the hash value \n",
    "      h = hash(word) # get hash value\n",
    "      #>>>        # add 1 at the hashed address \n",
    "      v[h % N] = v[h % N] + 1\n",
    "    return v # return hashed word vector\n",
    "\n",
    "from pyspark.mllib.feature import IDF, Normalizer\n",
    "\n",
    "def normTFIDF(fn_tokens_RDD, vecDim):\n",
    "    keysRDD = fn_tokens_RDD.keys()\n",
    "    tokensRDD = fn_tokens_RDD.values()\n",
    "    tfVecRDD = tokensRDD.map(lambda tokens: hashing_vectorize(tokens, vecDim)) \n",
    "    idf = IDF() # create IDF object\n",
    "    idfModel = idf.fit(tfVecRDD) # calculate IDF values\n",
    "    tfIdfRDD = idfModel.transform(tfVecRDD) # 2nd pass needed (see lecture slides), transforms RDD\n",
    "    #>>>    norm = ... # create a Normalizer object like in the example linked above\n",
    "    norm = Normalizer() # create a Normalizer object like in the example linked above\n",
    "\n",
    "    #>>>    normTfIdfRDD = norm. ... # and apply it to the tfIdfRDD \n",
    "    normTfIdfRDD = norm.transform(tfIdfRDD)\n",
    "    #>>>    zippedRDD = ... # zip the keys and values together\n",
    "    zippedRDD = keysRDD.zip(normTfIdfRDD) # zip the keys and values together\n",
    "    return zippedRDD\n",
    "\n",
    "testDim = 10 # too small for good accuracy, but OK for testing\n",
    "rdd3 = normTFIDF(rdd2, testDim) # test our normTFIDF function\n",
    "print(rdd3.take(1)) # we should now have tuples with ('filename', [N-dim vector])\n",
    "# e.g. [('3-1msg1', DenseVector([0.0, 0.1629, 0.6826, 0.0, 0.0, 0.0, 0.4017, 0.3258, 0.3133, 0.3766]))]"
   ]
  },
  {
   "cell_type": "markdown",
   "metadata": {
    "colab_type": "text",
    "id": "f-xzB6hrkeq5"
   },
   "source": [
    "## Task 4) Create LabeledPoints \n",
    "\n",
    "Determine whether the file is spam (i.e. the filename contains ’spmsg’) and replace the filename by a 1 (spam) or 0 (non-spam) accordingly. Use `RDD.map()` to create an RDD of LabeledPoint objects. See here [http://spark.apache.org/docs/2.4.5/mllib-linear-methods.html#logistic-regression](http://spark.apache.org/docs/2.4.5/mllib-linear-methods.html#logistic-regression) for an example, and here [http://spark.apache.org/docs/2.4.5/api/python/pyspark.mllib.html#pyspark.mllib.regression.LabeledPoint](http://spark.apache.org/docs/2.4.5/api/python/pyspark.mllib.html#pyspark.mllib.regression.LabeledPoint) for the `LabeledPoint` documentation. (10%)\n",
    "\n",
    "There is a handy function of Python strings called `startswith`: e.g. 'abc'.startswith('ab) will return true. The relevant Python syntax here is a conditional expression: **``<a> if <yourCondition> else <b>``**, i.e. 1 if the filename starts with 'spmsg' and otherwise 0."
   ]
  },
  {
   "cell_type": "code",
   "execution_count": 7,
   "metadata": {
    "colab": {
     "base_uri": "https://localhost:8080/",
     "height": 55
    },
    "colab_type": "code",
    "id": "wF9BDmnEkeq6",
    "outputId": "adb98f21-f536-4b33-abdb-e14b2458c3b2",
    "pixiedust": {
     "displayParams": {
      "handlerId": "tableView"
     }
    }
   },
   "outputs": [
    {
     "name": "stdout",
     "output_type": "stream",
     "text": [
      "[LabeledPoint(0.0, [0.0,0.16290896085571283,0.6826175329317583,0.0,0.0,0.0,0.40170165983309447,0.32581792171142565,0.3132864631840631,0.3765953060935261])]\n"
     ]
    }
   ],
   "source": [
    "from pyspark.mllib.regression import LabeledPoint\n",
    "\n",
    "# create labelled points of vector size N out of an RDD with normalised (filename, td.idf-vector) items\n",
    "def makeLabeledPoints(fn_vec_RDD): # RDD and N needed \n",
    "    # we determine the true class as encoded in the filename and represent as 1 (spam) or 0 (good) \n",
    "    #>>>    cls_vec_RDD = fn_vec_RDD.map(lambda ... ) # use a conditional expression to get the class label (True or False)\n",
    "    cls_vec_RDD = fn_vec_RDD.map(lambda x: (1,x[1]) if x[0].startswith('spmsg') else (0,x[1]))\n",
    "    # now we can create the LabeledPoint objects with (class, vector) arguments\n",
    "    lp_RDD = cls_vec_RDD.map(lambda cls_vec: LabeledPoint(cls_vec[0], cls_vec[1]))\n",
    "    return lp_RDD \n",
    "\n",
    "# for testing\n",
    "testLpRDD = makeLabeledPoints(rdd3)\n",
    "print(testLpRDD.take(1))\n",
    "# should look similar to this: [LabeledPoint(0.0, [0.0,0.16290896085571283,0.6826175329317583,0.0,0.0,0.0,0.40170165983309447,0.32581792171142565,0.3132864631840631,0.3765953060935261])]"
   ]
  },
  {
   "cell_type": "markdown",
   "metadata": {
    "colab_type": "text",
    "id": "vuLuz17zkeq8"
   },
   "source": [
    "## Task 5) Complete the preprocessing \n",
    "\n",
    "It will be useful to have a single function to do the preprocessing. So integrate everything here. (5%)"
   ]
  },
  {
   "cell_type": "code",
   "execution_count": 8,
   "metadata": {
    "colab": {
     "base_uri": "https://localhost:8080/",
     "height": 349
    },
    "colab_type": "code",
    "id": "h9F8Kl3ukeq9",
    "outputId": "cecf922b-6150-466a-8e3c-8ac85cd17745"
   },
   "outputs": [
    {
     "name": "stdout",
     "output_type": "stream",
     "text": [
      "[LabeledPoint(0.0, [0.5431144491961283,0.39172111622608674,0.35540711046827655,0.0,0.0,0.19045658048349204,0.3625647437051716,0.3592848102947122,0.2847076534848611,0.2177065059127546])]\n",
      "[PosixPath('bare/part10'), PosixPath('bare/part9'), PosixPath('bare/part8'), PosixPath('bare/part7'), PosixPath('bare/part6'), PosixPath('bare/part5'), PosixPath('bare/part4'), PosixPath('bare/part3'), PosixPath('bare/part2'), PosixPath('bare/part1')]\n",
      "creating RDDs\n",
      "/content/drive/My Drive/BigData2020/data/lingspam_public/bare/part10\n",
      "/content/drive/My Drive/BigData2020/data/lingspam_public/bare/part9\n",
      "/content/drive/My Drive/BigData2020/data/lingspam_public/bare/part8\n",
      "/content/drive/My Drive/BigData2020/data/lingspam_public/bare/part7\n",
      "/content/drive/My Drive/BigData2020/data/lingspam_public/bare/part6\n",
      "/content/drive/My Drive/BigData2020/data/lingspam_public/bare/part5\n",
      "/content/drive/My Drive/BigData2020/data/lingspam_public/bare/part4\n",
      "/content/drive/My Drive/BigData2020/data/lingspam_public/bare/part3\n",
      "/content/drive/My Drive/BigData2020/data/lingspam_public/bare/part2\n",
      "/content/drive/My Drive/BigData2020/data/lingspam_public/bare/part1\n",
      "len(rddList) 10\n",
      "[('file:/content/drive/My Drive/BigData2020/data/lingspam_public/bare/part9/8-817msg1.txt', 'Subject: disc : grammar in uk schools\\n\\ni was disturbed to find some traditional fallacies in geoffrey sampson \\'s discussion of the teaching of grammar in schools . though i no longer have a copy of prof . cameron \\'s original post , i do recall the essentials of it , and found that mr . sampson had passed over the valid point it was making in favour of a prescriptivist , \" back to basics \" defense of traditional grammatical education . prof . cameron is perfectly correct in ridiculing the inflexible , rote and prescriptive approach to grammar which is conventionally inflicted on students throughout the english speaking world . the issue of being able to use standard english ( or perhaps _ a _ standard english ) correctly is entirely separate from the reliance on traditional \" rules \" which are frequently unhelpful , and often grossly inaccurate . the rule regarding finishing sentences with prepositions , as one glaring example , is a total misunderstanding of both the history of english , and an unhelpful preoccupation for effective communication . > strikes me as akin to suggesting that teachers of > french should forget about teaching the past participle of \" vivre \" in > favour of getting their pupils to develop considered opinions about > the theories of derrida . though mr . sampson has used an interesting rhetorical image here , it is in fact a false analogy . teaching students to get a feel for the function of grammar and language is a far cry from teaching them gb theory or hpsg . an understanding of how sentences , clauses , verb tenses , adverbs , etc . actually function on a basic level is a very reasonable educational goal , and far more worthy then just creating a bunch of \" do n\\'t \" \\'s and \" never \" \\'s and calling that grammatical education . > beyond that , though , teaching orthography and grammar at school level > has a much broader educational value . one of the lessons we all have > to learn is that nothing big and worthwhile is ever achieved in this > life without careful attention to endless tedious and often arbitrary > details . at the risk of making a gross national stereotype , i feel compelled to quote george bernard shaw : \" the british believe that they are moral when they are merely uncomfortable . \" this notion that education ( or work , for that matter ) must be unpleasant to produce results is a puritanical relic . in my personal experience , the very successful people tend to be precisely the ones who know how to delegate , slough off or avoid wasting time with \" tedious and arbitrary details \" . ( please read the preceding paragraph with the tongue planted in the general vicinity of the cheek . ) in a spirit of greater seriousness though , i would like to second prof . cameron \\'s call to educators to abandon prescriptive , rule-based approaches to grammar , and embrace a more general approach based on a comprehension of more fluid and meaningful principles . i believe that the result would be students with a better grasp of the form and function of language rather than a shallow and inflexible mastery of facile rules . - - - - marc hamann\\n')]\n",
      "creating RDD union\n",
      "[LabeledPoint(0.0, [0.04607446235876811,0.02164029567289491,0.046783481085945273,0.021196567937817726,0.0,0.08039809080522078,0.03194281860875788,0.0364668726491177,0.03106479955513913,0.030195305092929507,0.0,0.016575608699543373,0.0,0.0,0.06125799421632794,0.03062899710816397,0.0,0.05317556012635191,0.08672006903767653,0.01694798855467262,0.021541673719023807,0.03093534024415744,0.06039061018585901,0.09252861461319095,0.09733732081130288,0.13670512658121756,0.056683304728259234,0.03245683860553394,0.15971409304378942,0.0,0.08443166756742687,0.1266475013511403,0.0,0.0,0.0,0.09885095751653371,0.05443376112734464,0.02933417128385253,0.0,0.0,0.08287804349771687,0.03372511078617377,0.03996823496840999,0.0,0.01620477079439959,0.04025822084334711,0.04172240429235919,0.02352750288878809,0.04574812589993851,0.031502733073897025,0.2717577458363656,0.05111673203018773,0.024274343603192854,0.0,0.0,0.02352750288878809,0.10223346406037546,0.04025822084334711,0.7935662661956292,0.0,0.0,0.0,0.0,0.0,0.06125799421632794,0.06660284764086688,0.0,0.0,0.0,0.07300299060847716,0.0573872465816351,0.0,0.0,0.06344921324809735,0.0,0.0,0.0,0.03773543036788508,0.0,0.1850572292263819,0.03049574897405942,0.0,0.0,0.0,0.02233072927380468,0.0,0.0,0.06925947384716932,0.0,0.015472732855686363,0.10319333873079808,0.0,0.0,0.08672006903767653,0.0,0.033649092918283455,0.17890856210565706,0.06745022157234754,0.023126798747696995,0.06699218782141404])]\n",
      "[LabeledPoint(0.0, [0.016010055748425074,0.05760993068040178,0.038743364535559266,0.1275290675068843,0.0,0.1739446006170555,0.061780052867447775,0.11014258504708467,0.12032582083634458,0.07919924905548059,0.24371700507482982,0.33606342448638954,0.03880541417925302,0.1157156022014296,0.10664017673069298,0.018378113253919533,0.03258313895924285,0.04790316225745941,0.029564630930387813,0.019160916824480723,0.2226534221551503,0.041218506574778956,0.04501570518979947,0.04401031994794751,0.018742761836921515,0.030369581657515705,0.0,0.03462658705108298,0.10904715798789875,0.1162300936066778,0.0,0.0379397362842823,0.0,0.13242073208929062,0.04597468665127968,0.12757979368452668,0.12589868196382706,0.05102238409235605,0.0,0.08205416486696786,0.09361876594110183,0.04805414222295305,0.06175039685708102,0.12854258901531693,0.026790652309714235,0.21084106206117786,0.12147832663006282,0.10374612312717006,0.03992804268046456,0.06575515700698038,0.19585180131289806,0.031354619857829245,0.07275864008052751,0.1470584252207885,0.07973077502052893,0.040469850754160826,0.0,0.14200605523516452,0.05705549933341488,0.11931669573730584,0.0,0.2016701890020631,0.06563726110174294,0.0,0.04308330725977521,0.062434821602152274,0.04939270347910877,0.04401031994794751,0.15793809422613922,0.0770009983518789,0.0795414758431203,0.028310928256128305,0.038371764670045896,0.18172813030403898,0.17479965696132624,0.03538094263603579,0.04566344475582599,0.06919737023915044,0.05855700378878749,0.0,0.07966093870321793,0.0,0.11551643065259225,0.0,0.1527353002718731,0.039365365276022295,0.04685570254094526,0.09102667779693739,0.0,0.024412353555299606,0.1413084913018848,0.04144204850754386,0.2414509744580609,0.08374457472866749,0.0,0.016835643185670036,0.05707572983867437,0.06528393377096602,0.04772667829492234,0.14187234048187114])]\n"
     ]
    }
   ],
   "source": [
    "# now we can apply the preprocessing chain to the data loaded in task 1 \n",
    "# N is for controlling the vector size\n",
    "def preprocess(rawRDD, N):\n",
    "    \"\"\" take a (filename,text) RDD and transform into LabelledPoint objects \n",
    "        with class labels and a TF.IDF vector with N dimensions. \n",
    "    \"\"\"\n",
    "    #>>> # apply tasks 2, 3 and 4 here\n",
    "    preparedTokenRDD=prepareTokenRDD(rawRDD)\n",
    "    normTFIDFRDD=normTFIDF(preparedTokenRDD,N)\n",
    "    lpRDD=makeLabeledPoints(normTFIDFRDD)\n",
    "    return lpRDD # return RDD with LabeledPoints\n",
    "\n",
    "# and with this we can start the whole process from a directory, N is again the vector size\n",
    "def loadAndPreprocess(directory, N):\n",
    "    \"\"\" load lingspam data from a directory and create a training and test set of preprocessed data \"\"\"\n",
    "    #>>>    trainRDD_testRDD = ... # read from the directory using the function created in task 1\n",
    "    trainRDD_testRDD = makeTestTrainRDDs('bare') # read from the 'bare' directory - this takes a bit of time\n",
    "    #>>>     # unpack the returned tuple\n",
    "    trainRDD, testRDD = trainRDD_testRDD\n",
    "    return (preprocess(trainRDD, N), preprocess(testRDD, N)) # apply the preprocessing function defined above\n",
    "\n",
    "trainLpRDD = preprocess(trainRDD, testDim) # prepare the training data\n",
    "print(trainLpRDD.take(1)) # should look similar to previous cell's output\n",
    "\n",
    "train_test_LpRDD = loadAndPreprocess('lemm', 100) # let's re-run with another vector size\n",
    "(trainLpRDD, testLpRDD) = train_test_LpRDD\n",
    "print(testLpRDD.take(1))\n",
    "print(trainLpRDD.take(1))"
   ]
  },
  {
   "cell_type": "markdown",
   "metadata": {
    "colab_type": "text",
    "id": "gdwyXqu4keq_"
   },
   "source": [
    "## Task 6) Train some classifiers \n",
    "\n",
    "Use the `LabeledPoint` objects to train a classifier, specifically *Logistic Regression*, *Naive Bayes*, and *Support Vector Machine*. Calculate the accuracy of the model on the training set (by dividing the number of correctly recognised messages by the total number of messages, again, follow this example [http://spark.apache.org/docs/2.4.5/ml-classification-regression.html#logistic-regression](http://spark.apache.org/docs/2.4.5/ml-classification-regression.html#logistic-regression) and here is the documentation for the classifiers [LogisticRegressionWithLBFGS](http://spark.apache.org/docs/2.4.5/api/python/pyspark.mllib.html#pyspark.mllib.classification.LogisticRegressionWithLBFGS), [NaiveBayes](http://spark.apache.org/docs/2.4.5/api/python/pyspark.mllib.html#pyspark.mllib.classification.NaiveBayes), [SVMWithSGD](http://spark.apache.org/docs/2.4.5/api/python/pyspark.mllib.html#pyspark.mllib.classification.SVMWithSGD).  (10%) "
   ]
  },
  {
   "cell_type": "code",
   "execution_count": 9,
   "metadata": {
    "colab": {
     "base_uri": "https://localhost:8080/",
     "height": 121
    },
    "colab_type": "code",
    "id": "Ljcgl0mLkeq_",
    "outputId": "cd9c442d-2638-471d-ce28-3380a8f2cb55"
   },
   "outputs": [
    {
     "name": "stdout",
     "output_type": "stream",
     "text": [
      "Starting to train the model\n",
      "Trained LR (model1)\n",
      "Trained NB (model2)\n",
      "Trained SVM (model3)\n",
      "Accuracy 83.4% (data items: 2604, correct: 2171)\n"
     ]
    },
    {
     "data": {
      "text/plain": [
       "0.8337173579109063"
      ]
     },
     "execution_count": 9,
     "metadata": {
      "tags": []
     },
     "output_type": "execute_result"
    }
   ],
   "source": [
    "from pyspark.mllib.classification import NaiveBayes, LogisticRegressionWithLBFGS, SVMWithSGD\n",
    "from pyspark import StorageLevel\n",
    "\n",
    "# train the model with a LabeledPoint RDD.\n",
    "def trainModel(lpRDD):\n",
    "    \"\"\" Train 3 classifier models on the given RDD with LabeledPoint objects. A list of trained model is returned. \"\"\"\n",
    "    # Train a classifier model.\n",
    "    print('Starting to train the model') # give some immediate feedback\n",
    "    model1 = LogisticRegressionWithLBFGS.train(lpRDD) # this is the best model\n",
    "    print('Trained LR (model1)')\n",
    "    #print('type(model1)')\n",
    "    model2 = NaiveBayes.train(lpRDD) # doesn't work well\n",
    "    print('Trained NB (model2)')\n",
    "    #print(type(model2))\n",
    "    model3 = SVMWithSGD.train(lpRDD) # or this ...\n",
    "    print('Trained SVM (model3)')\n",
    "    return [model1, model2, model3]\n",
    "\n",
    "def testModel(model, lpRDD):\n",
    "    \"\"\" Tests the classification accuracy of the given model on the given RDD with LabeledPoint objects. \"\"\"\n",
    "    lpRDD.persist(StorageLevel.MEMORY_ONLY)\n",
    "    # Make prediction and evaluate training set accuracy\n",
    "    # Get the prediction and the ground truth label\n",
    "    predictionAndLabel = lpRDD.map(lambda p: (model.predict(p.features), p.label)) # get the prediction and ground truth (label) for each item\n",
    "    correct = predictionAndLabel.filter(lambda xv: xv[0] == xv[1]).count() # count the correct predictions \n",
    "    #>>>    accuracy = ... # and calculate the accuracy \n",
    "    accuracy = correct/lpRDD.count() # and calculate the accuracy \n",
    "    print('Accuracy {:.1%} (data items: {}, correct: {})'.format(accuracy, lpRDD.count(), correct)) # report to console\n",
    "    return accuracy # and return the value  \n",
    "\n",
    "models = trainModel(trainLpRDD) # just for testing\n",
    "testModel(models[2], trainLpRDD) # just for testing"
   ]
  },
  {
   "cell_type": "markdown",
   "metadata": {
    "colab_type": "text",
    "id": "8TeHFXcTkerC"
   },
   "source": [
    "## Task 7) Automate training and testing\n",
    "\n",
    "We now automate the whole process from reading the files, through preprocessing, and training up to evaluating the models. In the end we have a single function that takes all the parameters we are interested in and produces trained models and an evaluation. (5%) "
   ]
  },
  {
   "cell_type": "code",
   "execution_count": 10,
   "metadata": {
    "colab": {
     "base_uri": "https://localhost:8080/",
     "height": 644
    },
    "colab_type": "code",
    "id": "Kj_Xh5oekerD",
    "outputId": "dc09a7e6-8000-4de8-d8b4-6d469b8d9319"
   },
   "outputs": [
    {
     "name": "stdout",
     "output_type": "stream",
     "text": [
      "Start loading and preprocessing\n",
      "[PosixPath('bare/part10'), PosixPath('bare/part9'), PosixPath('bare/part8'), PosixPath('bare/part7'), PosixPath('bare/part6'), PosixPath('bare/part5'), PosixPath('bare/part4'), PosixPath('bare/part3'), PosixPath('bare/part2'), PosixPath('bare/part1')]\n",
      "creating RDDs\n",
      "/content/drive/My Drive/BigData2020/data/lingspam_public/bare/part10\n",
      "/content/drive/My Drive/BigData2020/data/lingspam_public/bare/part9\n",
      "/content/drive/My Drive/BigData2020/data/lingspam_public/bare/part8\n",
      "/content/drive/My Drive/BigData2020/data/lingspam_public/bare/part7\n",
      "/content/drive/My Drive/BigData2020/data/lingspam_public/bare/part6\n",
      "/content/drive/My Drive/BigData2020/data/lingspam_public/bare/part5\n",
      "/content/drive/My Drive/BigData2020/data/lingspam_public/bare/part4\n",
      "/content/drive/My Drive/BigData2020/data/lingspam_public/bare/part3\n",
      "/content/drive/My Drive/BigData2020/data/lingspam_public/bare/part2\n",
      "/content/drive/My Drive/BigData2020/data/lingspam_public/bare/part1\n",
      "len(rddList) 10\n",
      "[('file:/content/drive/My Drive/BigData2020/data/lingspam_public/bare/part9/8-817msg1.txt', 'Subject: disc : grammar in uk schools\\n\\ni was disturbed to find some traditional fallacies in geoffrey sampson \\'s discussion of the teaching of grammar in schools . though i no longer have a copy of prof . cameron \\'s original post , i do recall the essentials of it , and found that mr . sampson had passed over the valid point it was making in favour of a prescriptivist , \" back to basics \" defense of traditional grammatical education . prof . cameron is perfectly correct in ridiculing the inflexible , rote and prescriptive approach to grammar which is conventionally inflicted on students throughout the english speaking world . the issue of being able to use standard english ( or perhaps _ a _ standard english ) correctly is entirely separate from the reliance on traditional \" rules \" which are frequently unhelpful , and often grossly inaccurate . the rule regarding finishing sentences with prepositions , as one glaring example , is a total misunderstanding of both the history of english , and an unhelpful preoccupation for effective communication . > strikes me as akin to suggesting that teachers of > french should forget about teaching the past participle of \" vivre \" in > favour of getting their pupils to develop considered opinions about > the theories of derrida . though mr . sampson has used an interesting rhetorical image here , it is in fact a false analogy . teaching students to get a feel for the function of grammar and language is a far cry from teaching them gb theory or hpsg . an understanding of how sentences , clauses , verb tenses , adverbs , etc . actually function on a basic level is a very reasonable educational goal , and far more worthy then just creating a bunch of \" do n\\'t \" \\'s and \" never \" \\'s and calling that grammatical education . > beyond that , though , teaching orthography and grammar at school level > has a much broader educational value . one of the lessons we all have > to learn is that nothing big and worthwhile is ever achieved in this > life without careful attention to endless tedious and often arbitrary > details . at the risk of making a gross national stereotype , i feel compelled to quote george bernard shaw : \" the british believe that they are moral when they are merely uncomfortable . \" this notion that education ( or work , for that matter ) must be unpleasant to produce results is a puritanical relic . in my personal experience , the very successful people tend to be precisely the ones who know how to delegate , slough off or avoid wasting time with \" tedious and arbitrary details \" . ( please read the preceding paragraph with the tongue planted in the general vicinity of the cheek . ) in a spirit of greater seriousness though , i would like to second prof . cameron \\'s call to educators to abandon prescriptive , rule-based approaches to grammar , and embrace a more general approach based on a comprehension of more fluid and meaningful principles . i believe that the result would be students with a better grasp of the form and function of language rather than a shallow and inflexible mastery of facile rules . - - - - marc hamann\\n')]\n",
      "creating RDD union\n",
      "Finished loading and preprocessing\n",
      "Starting to train the model\n",
      "Trained LR (model1)\n",
      "Trained NB (model2)\n",
      "Trained SVM (model3)\n",
      "Training\n",
      "Accuracy 100.0% (data items: 2604, correct: 2604)\n",
      "Testing\n",
      "Accuracy 95.2% (data items: 289, correct: 275)\n",
      "Training\n",
      "Accuracy 94.1% (data items: 2604, correct: 2450)\n",
      "Testing\n",
      "Accuracy 92.7% (data items: 289, correct: 268)\n",
      "Training\n",
      "Accuracy 83.4% (data items: 2604, correct: 2171)\n",
      "Testing\n",
      "Accuracy 83.4% (data items: 289, correct: 241)\n"
     ]
    },
    {
     "data": {
      "text/plain": [
       "[[1.0, 0.9408602150537635, 0.8337173579109063],\n",
       " [0.9515570934256056, 0.9273356401384083, 0.8339100346020761]]"
      ]
     },
     "execution_count": 10,
     "metadata": {
      "tags": []
     },
     "output_type": "execute_result"
    }
   ],
   "source": [
    "# this function combines the previous two functions\n",
    "# this method should take RDDs with LabeledPoints\n",
    "def trainTestModel(trainRDD, testRDD):\n",
    "    \"\"\" Trains 3 models and tests them on training and test data. Returns a matrix with the training and testing (rows) accuracy values for all models (columns). \"\"\"\n",
    "    #>>> models = ... # train models on the training set\n",
    "    models=trainModel(trainRDD);\n",
    "    results = [[], []] # matrix for 2 models (training/test) vs n models (currently 3)\n",
    "    for mdl in models:\n",
    "        print('Training')\n",
    "        #>>>     results[0].append(...) # test the model on the training set\n",
    "        results[0].append(testModel(mdl, trainRDD)) # test the model on the training set\n",
    "        print('Testing')\n",
    "        #>>>     results[1].append(...) # test the model on the test set\n",
    "        results[1].append(testModel(mdl, testRDD)) # test the model on the test set\n",
    "    return results\n",
    "\n",
    "def trainTestFolder(folder,N):\n",
    "    \"\"\" Reads data from a folder, preproceses the data, and trains and evaluates models on it. \"\"\"\n",
    "    print('Start loading and preprocessing') \n",
    "    train_test_LpRDD = loadAndPreprocess(folder,N) # create the RDDs\n",
    "    print('Finished loading and preprocessing')\n",
    "    (trainLpRDD, testLpRDD) = train_test_LpRDD # unpack the RDDs \n",
    "    return trainTestModel(trainLpRDD,testLpRDD) # train and test\n",
    "\n",
    "trainTestFolder('lemm', 1000) "
   ]
  },
  {
   "cell_type": "markdown",
   "metadata": {
    "colab_type": "text",
    "id": "pzcNex1NkerF"
   },
   "source": [
    "## Task 8) Run experiments \n",
    "\n",
    "We have now a single function that allows us to vary the vector size easily. Test vector sizes 3, 30, 300, 3000, 30000 and examine the effect on the classification accuracy in Experiment 1.\n",
    "\n",
    "Use the function from Task 7) to test different data types. The dataset has raw text in folder `bare`, lemmatised text in  `lemm` (similar to stemming, reduces to basic word forms), `stop` (with stopwords removed), and `lemm_stop` (lemmatised and stopwords removed). Test how the classification accuracy differs for these four data types in Experiment 2. Collect the results in a data structure that can be saved for later analyis.\n",
    "\n",
    "Comment on the results in a few sentences, considering the differences in performance between the different conditions as well as train an test values. 15%"
   ]
  },
  {
   "cell_type": "code",
   "execution_count": 11,
   "metadata": {
    "colab": {
     "base_uri": "https://localhost:8080/",
     "height": 1000
    },
    "colab_type": "code",
    "id": "HmW_CpetkerG",
    "outputId": "559f6fff-5366-4ff4-e4da-cb908b21dcb6",
    "scrolled": false
   },
   "outputs": [
    {
     "name": "stdout",
     "output_type": "stream",
     "text": [
      "\n",
      "EXPERIMENT 1: Testing different vector sizes\n",
      "N = 3\n",
      "Start loading and preprocessing\n",
      "[PosixPath('bare/part10'), PosixPath('bare/part9'), PosixPath('bare/part8'), PosixPath('bare/part7'), PosixPath('bare/part6'), PosixPath('bare/part5'), PosixPath('bare/part4'), PosixPath('bare/part3'), PosixPath('bare/part2'), PosixPath('bare/part1')]\n",
      "creating RDDs\n",
      "/content/drive/My Drive/BigData2020/data/lingspam_public/bare/part10\n",
      "/content/drive/My Drive/BigData2020/data/lingspam_public/bare/part9\n",
      "/content/drive/My Drive/BigData2020/data/lingspam_public/bare/part8\n",
      "/content/drive/My Drive/BigData2020/data/lingspam_public/bare/part7\n",
      "/content/drive/My Drive/BigData2020/data/lingspam_public/bare/part6\n",
      "/content/drive/My Drive/BigData2020/data/lingspam_public/bare/part5\n",
      "/content/drive/My Drive/BigData2020/data/lingspam_public/bare/part4\n",
      "/content/drive/My Drive/BigData2020/data/lingspam_public/bare/part3\n",
      "/content/drive/My Drive/BigData2020/data/lingspam_public/bare/part2\n",
      "/content/drive/My Drive/BigData2020/data/lingspam_public/bare/part1\n",
      "len(rddList) 10\n",
      "[('file:/content/drive/My Drive/BigData2020/data/lingspam_public/bare/part9/8-817msg1.txt', 'Subject: disc : grammar in uk schools\\n\\ni was disturbed to find some traditional fallacies in geoffrey sampson \\'s discussion of the teaching of grammar in schools . though i no longer have a copy of prof . cameron \\'s original post , i do recall the essentials of it , and found that mr . sampson had passed over the valid point it was making in favour of a prescriptivist , \" back to basics \" defense of traditional grammatical education . prof . cameron is perfectly correct in ridiculing the inflexible , rote and prescriptive approach to grammar which is conventionally inflicted on students throughout the english speaking world . the issue of being able to use standard english ( or perhaps _ a _ standard english ) correctly is entirely separate from the reliance on traditional \" rules \" which are frequently unhelpful , and often grossly inaccurate . the rule regarding finishing sentences with prepositions , as one glaring example , is a total misunderstanding of both the history of english , and an unhelpful preoccupation for effective communication . > strikes me as akin to suggesting that teachers of > french should forget about teaching the past participle of \" vivre \" in > favour of getting their pupils to develop considered opinions about > the theories of derrida . though mr . sampson has used an interesting rhetorical image here , it is in fact a false analogy . teaching students to get a feel for the function of grammar and language is a far cry from teaching them gb theory or hpsg . an understanding of how sentences , clauses , verb tenses , adverbs , etc . actually function on a basic level is a very reasonable educational goal , and far more worthy then just creating a bunch of \" do n\\'t \" \\'s and \" never \" \\'s and calling that grammatical education . > beyond that , though , teaching orthography and grammar at school level > has a much broader educational value . one of the lessons we all have > to learn is that nothing big and worthwhile is ever achieved in this > life without careful attention to endless tedious and often arbitrary > details . at the risk of making a gross national stereotype , i feel compelled to quote george bernard shaw : \" the british believe that they are moral when they are merely uncomfortable . \" this notion that education ( or work , for that matter ) must be unpleasant to produce results is a puritanical relic . in my personal experience , the very successful people tend to be precisely the ones who know how to delegate , slough off or avoid wasting time with \" tedious and arbitrary details \" . ( please read the preceding paragraph with the tongue planted in the general vicinity of the cheek . ) in a spirit of greater seriousness though , i would like to second prof . cameron \\'s call to educators to abandon prescriptive , rule-based approaches to grammar , and embrace a more general approach based on a comprehension of more fluid and meaningful principles . i believe that the result would be students with a better grasp of the form and function of language rather than a shallow and inflexible mastery of facile rules . - - - - marc hamann\\n')]\n",
      "creating RDD union\n",
      "Finished loading and preprocessing\n",
      "Starting to train the model\n",
      "Trained LR (model1)\n",
      "Trained NB (model2)\n",
      "Trained SVM (model3)\n",
      "Training\n",
      "Accuracy 83.4% (data items: 2604, correct: 2171)\n",
      "Testing\n",
      "Accuracy 83.4% (data items: 289, correct: 241)\n",
      "Training\n",
      "Accuracy 83.4% (data items: 2604, correct: 2171)\n",
      "Testing\n",
      "Accuracy 83.4% (data items: 289, correct: 241)\n",
      "Training\n",
      "Accuracy 83.4% (data items: 2604, correct: 2171)\n",
      "Testing\n",
      "Accuracy 83.4% (data items: 289, correct: 241)\n",
      "N = 30\n",
      "Start loading and preprocessing\n",
      "[PosixPath('bare/part10'), PosixPath('bare/part9'), PosixPath('bare/part8'), PosixPath('bare/part7'), PosixPath('bare/part6'), PosixPath('bare/part5'), PosixPath('bare/part4'), PosixPath('bare/part3'), PosixPath('bare/part2'), PosixPath('bare/part1')]\n",
      "creating RDDs\n",
      "/content/drive/My Drive/BigData2020/data/lingspam_public/bare/part10\n",
      "/content/drive/My Drive/BigData2020/data/lingspam_public/bare/part9\n",
      "/content/drive/My Drive/BigData2020/data/lingspam_public/bare/part8\n",
      "/content/drive/My Drive/BigData2020/data/lingspam_public/bare/part7\n",
      "/content/drive/My Drive/BigData2020/data/lingspam_public/bare/part6\n",
      "/content/drive/My Drive/BigData2020/data/lingspam_public/bare/part5\n",
      "/content/drive/My Drive/BigData2020/data/lingspam_public/bare/part4\n",
      "/content/drive/My Drive/BigData2020/data/lingspam_public/bare/part3\n",
      "/content/drive/My Drive/BigData2020/data/lingspam_public/bare/part2\n",
      "/content/drive/My Drive/BigData2020/data/lingspam_public/bare/part1\n",
      "len(rddList) 10\n",
      "[('file:/content/drive/My Drive/BigData2020/data/lingspam_public/bare/part9/8-817msg1.txt', 'Subject: disc : grammar in uk schools\\n\\ni was disturbed to find some traditional fallacies in geoffrey sampson \\'s discussion of the teaching of grammar in schools . though i no longer have a copy of prof . cameron \\'s original post , i do recall the essentials of it , and found that mr . sampson had passed over the valid point it was making in favour of a prescriptivist , \" back to basics \" defense of traditional grammatical education . prof . cameron is perfectly correct in ridiculing the inflexible , rote and prescriptive approach to grammar which is conventionally inflicted on students throughout the english speaking world . the issue of being able to use standard english ( or perhaps _ a _ standard english ) correctly is entirely separate from the reliance on traditional \" rules \" which are frequently unhelpful , and often grossly inaccurate . the rule regarding finishing sentences with prepositions , as one glaring example , is a total misunderstanding of both the history of english , and an unhelpful preoccupation for effective communication . > strikes me as akin to suggesting that teachers of > french should forget about teaching the past participle of \" vivre \" in > favour of getting their pupils to develop considered opinions about > the theories of derrida . though mr . sampson has used an interesting rhetorical image here , it is in fact a false analogy . teaching students to get a feel for the function of grammar and language is a far cry from teaching them gb theory or hpsg . an understanding of how sentences , clauses , verb tenses , adverbs , etc . actually function on a basic level is a very reasonable educational goal , and far more worthy then just creating a bunch of \" do n\\'t \" \\'s and \" never \" \\'s and calling that grammatical education . > beyond that , though , teaching orthography and grammar at school level > has a much broader educational value . one of the lessons we all have > to learn is that nothing big and worthwhile is ever achieved in this > life without careful attention to endless tedious and often arbitrary > details . at the risk of making a gross national stereotype , i feel compelled to quote george bernard shaw : \" the british believe that they are moral when they are merely uncomfortable . \" this notion that education ( or work , for that matter ) must be unpleasant to produce results is a puritanical relic . in my personal experience , the very successful people tend to be precisely the ones who know how to delegate , slough off or avoid wasting time with \" tedious and arbitrary details \" . ( please read the preceding paragraph with the tongue planted in the general vicinity of the cheek . ) in a spirit of greater seriousness though , i would like to second prof . cameron \\'s call to educators to abandon prescriptive , rule-based approaches to grammar , and embrace a more general approach based on a comprehension of more fluid and meaningful principles . i believe that the result would be students with a better grasp of the form and function of language rather than a shallow and inflexible mastery of facile rules . - - - - marc hamann\\n')]\n",
      "creating RDD union\n",
      "Finished loading and preprocessing\n",
      "Starting to train the model\n",
      "Trained LR (model1)\n",
      "Trained NB (model2)\n",
      "Trained SVM (model3)\n",
      "Training\n",
      "Accuracy 85.8% (data items: 2604, correct: 2233)\n",
      "Testing\n",
      "Accuracy 84.8% (data items: 289, correct: 245)\n",
      "Training\n",
      "Accuracy 83.4% (data items: 2604, correct: 2171)\n",
      "Testing\n",
      "Accuracy 83.4% (data items: 289, correct: 241)\n",
      "Training\n",
      "Accuracy 83.4% (data items: 2604, correct: 2171)\n",
      "Testing\n",
      "Accuracy 83.4% (data items: 289, correct: 241)\n",
      "N = 300\n",
      "Start loading and preprocessing\n",
      "[PosixPath('bare/part10'), PosixPath('bare/part9'), PosixPath('bare/part8'), PosixPath('bare/part7'), PosixPath('bare/part6'), PosixPath('bare/part5'), PosixPath('bare/part4'), PosixPath('bare/part3'), PosixPath('bare/part2'), PosixPath('bare/part1')]\n",
      "creating RDDs\n",
      "/content/drive/My Drive/BigData2020/data/lingspam_public/bare/part10\n",
      "/content/drive/My Drive/BigData2020/data/lingspam_public/bare/part9\n",
      "/content/drive/My Drive/BigData2020/data/lingspam_public/bare/part8\n",
      "/content/drive/My Drive/BigData2020/data/lingspam_public/bare/part7\n",
      "/content/drive/My Drive/BigData2020/data/lingspam_public/bare/part6\n",
      "/content/drive/My Drive/BigData2020/data/lingspam_public/bare/part5\n",
      "/content/drive/My Drive/BigData2020/data/lingspam_public/bare/part4\n",
      "/content/drive/My Drive/BigData2020/data/lingspam_public/bare/part3\n",
      "/content/drive/My Drive/BigData2020/data/lingspam_public/bare/part2\n",
      "/content/drive/My Drive/BigData2020/data/lingspam_public/bare/part1\n",
      "len(rddList) 10\n",
      "[('file:/content/drive/My Drive/BigData2020/data/lingspam_public/bare/part9/8-817msg1.txt', 'Subject: disc : grammar in uk schools\\n\\ni was disturbed to find some traditional fallacies in geoffrey sampson \\'s discussion of the teaching of grammar in schools . though i no longer have a copy of prof . cameron \\'s original post , i do recall the essentials of it , and found that mr . sampson had passed over the valid point it was making in favour of a prescriptivist , \" back to basics \" defense of traditional grammatical education . prof . cameron is perfectly correct in ridiculing the inflexible , rote and prescriptive approach to grammar which is conventionally inflicted on students throughout the english speaking world . the issue of being able to use standard english ( or perhaps _ a _ standard english ) correctly is entirely separate from the reliance on traditional \" rules \" which are frequently unhelpful , and often grossly inaccurate . the rule regarding finishing sentences with prepositions , as one glaring example , is a total misunderstanding of both the history of english , and an unhelpful preoccupation for effective communication . > strikes me as akin to suggesting that teachers of > french should forget about teaching the past participle of \" vivre \" in > favour of getting their pupils to develop considered opinions about > the theories of derrida . though mr . sampson has used an interesting rhetorical image here , it is in fact a false analogy . teaching students to get a feel for the function of grammar and language is a far cry from teaching them gb theory or hpsg . an understanding of how sentences , clauses , verb tenses , adverbs , etc . actually function on a basic level is a very reasonable educational goal , and far more worthy then just creating a bunch of \" do n\\'t \" \\'s and \" never \" \\'s and calling that grammatical education . > beyond that , though , teaching orthography and grammar at school level > has a much broader educational value . one of the lessons we all have > to learn is that nothing big and worthwhile is ever achieved in this > life without careful attention to endless tedious and often arbitrary > details . at the risk of making a gross national stereotype , i feel compelled to quote george bernard shaw : \" the british believe that they are moral when they are merely uncomfortable . \" this notion that education ( or work , for that matter ) must be unpleasant to produce results is a puritanical relic . in my personal experience , the very successful people tend to be precisely the ones who know how to delegate , slough off or avoid wasting time with \" tedious and arbitrary details \" . ( please read the preceding paragraph with the tongue planted in the general vicinity of the cheek . ) in a spirit of greater seriousness though , i would like to second prof . cameron \\'s call to educators to abandon prescriptive , rule-based approaches to grammar , and embrace a more general approach based on a comprehension of more fluid and meaningful principles . i believe that the result would be students with a better grasp of the form and function of language rather than a shallow and inflexible mastery of facile rules . - - - - marc hamann\\n')]\n",
      "creating RDD union\n",
      "Finished loading and preprocessing\n",
      "Starting to train the model\n",
      "Trained LR (model1)\n",
      "Trained NB (model2)\n",
      "Trained SVM (model3)\n",
      "Training\n",
      "Accuracy 100.0% (data items: 2604, correct: 2604)\n",
      "Testing\n",
      "Accuracy 93.1% (data items: 289, correct: 269)\n",
      "Training\n",
      "Accuracy 86.1% (data items: 2604, correct: 2243)\n",
      "Testing\n",
      "Accuracy 84.8% (data items: 289, correct: 245)\n",
      "Training\n",
      "Accuracy 83.4% (data items: 2604, correct: 2171)\n",
      "Testing\n",
      "Accuracy 83.4% (data items: 289, correct: 241)\n",
      "N = 3000\n",
      "Start loading and preprocessing\n",
      "[PosixPath('bare/part10'), PosixPath('bare/part9'), PosixPath('bare/part8'), PosixPath('bare/part7'), PosixPath('bare/part6'), PosixPath('bare/part5'), PosixPath('bare/part4'), PosixPath('bare/part3'), PosixPath('bare/part2'), PosixPath('bare/part1')]\n",
      "creating RDDs\n",
      "/content/drive/My Drive/BigData2020/data/lingspam_public/bare/part10\n",
      "/content/drive/My Drive/BigData2020/data/lingspam_public/bare/part9\n",
      "/content/drive/My Drive/BigData2020/data/lingspam_public/bare/part8\n",
      "/content/drive/My Drive/BigData2020/data/lingspam_public/bare/part7\n",
      "/content/drive/My Drive/BigData2020/data/lingspam_public/bare/part6\n",
      "/content/drive/My Drive/BigData2020/data/lingspam_public/bare/part5\n",
      "/content/drive/My Drive/BigData2020/data/lingspam_public/bare/part4\n",
      "/content/drive/My Drive/BigData2020/data/lingspam_public/bare/part3\n",
      "/content/drive/My Drive/BigData2020/data/lingspam_public/bare/part2\n",
      "/content/drive/My Drive/BigData2020/data/lingspam_public/bare/part1\n",
      "len(rddList) 10\n",
      "[('file:/content/drive/My Drive/BigData2020/data/lingspam_public/bare/part9/8-817msg1.txt', 'Subject: disc : grammar in uk schools\\n\\ni was disturbed to find some traditional fallacies in geoffrey sampson \\'s discussion of the teaching of grammar in schools . though i no longer have a copy of prof . cameron \\'s original post , i do recall the essentials of it , and found that mr . sampson had passed over the valid point it was making in favour of a prescriptivist , \" back to basics \" defense of traditional grammatical education . prof . cameron is perfectly correct in ridiculing the inflexible , rote and prescriptive approach to grammar which is conventionally inflicted on students throughout the english speaking world . the issue of being able to use standard english ( or perhaps _ a _ standard english ) correctly is entirely separate from the reliance on traditional \" rules \" which are frequently unhelpful , and often grossly inaccurate . the rule regarding finishing sentences with prepositions , as one glaring example , is a total misunderstanding of both the history of english , and an unhelpful preoccupation for effective communication . > strikes me as akin to suggesting that teachers of > french should forget about teaching the past participle of \" vivre \" in > favour of getting their pupils to develop considered opinions about > the theories of derrida . though mr . sampson has used an interesting rhetorical image here , it is in fact a false analogy . teaching students to get a feel for the function of grammar and language is a far cry from teaching them gb theory or hpsg . an understanding of how sentences , clauses , verb tenses , adverbs , etc . actually function on a basic level is a very reasonable educational goal , and far more worthy then just creating a bunch of \" do n\\'t \" \\'s and \" never \" \\'s and calling that grammatical education . > beyond that , though , teaching orthography and grammar at school level > has a much broader educational value . one of the lessons we all have > to learn is that nothing big and worthwhile is ever achieved in this > life without careful attention to endless tedious and often arbitrary > details . at the risk of making a gross national stereotype , i feel compelled to quote george bernard shaw : \" the british believe that they are moral when they are merely uncomfortable . \" this notion that education ( or work , for that matter ) must be unpleasant to produce results is a puritanical relic . in my personal experience , the very successful people tend to be precisely the ones who know how to delegate , slough off or avoid wasting time with \" tedious and arbitrary details \" . ( please read the preceding paragraph with the tongue planted in the general vicinity of the cheek . ) in a spirit of greater seriousness though , i would like to second prof . cameron \\'s call to educators to abandon prescriptive , rule-based approaches to grammar , and embrace a more general approach based on a comprehension of more fluid and meaningful principles . i believe that the result would be students with a better grasp of the form and function of language rather than a shallow and inflexible mastery of facile rules . - - - - marc hamann\\n')]\n",
      "creating RDD union\n",
      "Finished loading and preprocessing\n",
      "Starting to train the model\n",
      "Trained LR (model1)\n",
      "Trained NB (model2)\n",
      "Trained SVM (model3)\n",
      "Training\n",
      "Accuracy 100.0% (data items: 2604, correct: 2604)\n",
      "Testing\n",
      "Accuracy 96.9% (data items: 289, correct: 280)\n",
      "Training\n",
      "Accuracy 97.4% (data items: 2604, correct: 2536)\n",
      "Testing\n",
      "Accuracy 96.2% (data items: 289, correct: 278)\n",
      "Training\n",
      "Accuracy 83.4% (data items: 2604, correct: 2171)\n",
      "Testing\n",
      "Accuracy 83.4% (data items: 289, correct: 241)\n",
      "N = 30000\n",
      "Start loading and preprocessing\n",
      "[PosixPath('bare/part10'), PosixPath('bare/part9'), PosixPath('bare/part8'), PosixPath('bare/part7'), PosixPath('bare/part6'), PosixPath('bare/part5'), PosixPath('bare/part4'), PosixPath('bare/part3'), PosixPath('bare/part2'), PosixPath('bare/part1')]\n",
      "creating RDDs\n",
      "/content/drive/My Drive/BigData2020/data/lingspam_public/bare/part10\n",
      "/content/drive/My Drive/BigData2020/data/lingspam_public/bare/part9\n",
      "/content/drive/My Drive/BigData2020/data/lingspam_public/bare/part8\n",
      "/content/drive/My Drive/BigData2020/data/lingspam_public/bare/part7\n",
      "/content/drive/My Drive/BigData2020/data/lingspam_public/bare/part6\n",
      "/content/drive/My Drive/BigData2020/data/lingspam_public/bare/part5\n",
      "/content/drive/My Drive/BigData2020/data/lingspam_public/bare/part4\n",
      "/content/drive/My Drive/BigData2020/data/lingspam_public/bare/part3\n",
      "/content/drive/My Drive/BigData2020/data/lingspam_public/bare/part2\n",
      "/content/drive/My Drive/BigData2020/data/lingspam_public/bare/part1\n",
      "len(rddList) 10\n",
      "[('file:/content/drive/My Drive/BigData2020/data/lingspam_public/bare/part9/8-817msg1.txt', 'Subject: disc : grammar in uk schools\\n\\ni was disturbed to find some traditional fallacies in geoffrey sampson \\'s discussion of the teaching of grammar in schools . though i no longer have a copy of prof . cameron \\'s original post , i do recall the essentials of it , and found that mr . sampson had passed over the valid point it was making in favour of a prescriptivist , \" back to basics \" defense of traditional grammatical education . prof . cameron is perfectly correct in ridiculing the inflexible , rote and prescriptive approach to grammar which is conventionally inflicted on students throughout the english speaking world . the issue of being able to use standard english ( or perhaps _ a _ standard english ) correctly is entirely separate from the reliance on traditional \" rules \" which are frequently unhelpful , and often grossly inaccurate . the rule regarding finishing sentences with prepositions , as one glaring example , is a total misunderstanding of both the history of english , and an unhelpful preoccupation for effective communication . > strikes me as akin to suggesting that teachers of > french should forget about teaching the past participle of \" vivre \" in > favour of getting their pupils to develop considered opinions about > the theories of derrida . though mr . sampson has used an interesting rhetorical image here , it is in fact a false analogy . teaching students to get a feel for the function of grammar and language is a far cry from teaching them gb theory or hpsg . an understanding of how sentences , clauses , verb tenses , adverbs , etc . actually function on a basic level is a very reasonable educational goal , and far more worthy then just creating a bunch of \" do n\\'t \" \\'s and \" never \" \\'s and calling that grammatical education . > beyond that , though , teaching orthography and grammar at school level > has a much broader educational value . one of the lessons we all have > to learn is that nothing big and worthwhile is ever achieved in this > life without careful attention to endless tedious and often arbitrary > details . at the risk of making a gross national stereotype , i feel compelled to quote george bernard shaw : \" the british believe that they are moral when they are merely uncomfortable . \" this notion that education ( or work , for that matter ) must be unpleasant to produce results is a puritanical relic . in my personal experience , the very successful people tend to be precisely the ones who know how to delegate , slough off or avoid wasting time with \" tedious and arbitrary details \" . ( please read the preceding paragraph with the tongue planted in the general vicinity of the cheek . ) in a spirit of greater seriousness though , i would like to second prof . cameron \\'s call to educators to abandon prescriptive , rule-based approaches to grammar , and embrace a more general approach based on a comprehension of more fluid and meaningful principles . i believe that the result would be students with a better grasp of the form and function of language rather than a shallow and inflexible mastery of facile rules . - - - - marc hamann\\n')]\n",
      "creating RDD union\n",
      "Finished loading and preprocessing\n",
      "Starting to train the model\n",
      "Trained LR (model1)\n",
      "Trained NB (model2)\n",
      "Trained SVM (model3)\n",
      "Training\n",
      "Accuracy 100.0% (data items: 2604, correct: 2604)\n",
      "Testing\n",
      "Accuracy 97.2% (data items: 289, correct: 281)\n",
      "Training\n",
      "Accuracy 86.3% (data items: 2604, correct: 2246)\n",
      "Testing\n",
      "Accuracy 83.4% (data items: 289, correct: 241)\n",
      "Training\n",
      "Accuracy 83.4% (data items: 2604, correct: 2172)\n",
      "Testing\n",
      "Accuracy 83.4% (data items: 289, correct: 241)\n"
     ]
    }
   ],
   "source": [
    "folder = 'bare'\n",
    "N = [3, 30, 300, 3000, 30000]\n",
    "print('\\nEXPERIMENT 1: Testing different vector sizes')\n",
    "results_vectorsizes = []\n",
    "for n in N:\n",
    "    print('N = {}'.format(n))\n",
    "    result = {'n': n, 't': folder}\n",
    "    result['acc'] = trainTestFolder(folder, n)\n",
    "    results_vectorsizes.append(result)"
   ]
  },
  {
   "cell_type": "code",
   "execution_count": 12,
   "metadata": {
    "colab": {
     "base_uri": "https://localhost:8080/",
     "height": 1000
    },
    "colab_type": "code",
    "id": "Y3ll1Ag9BLqb",
    "outputId": "105af497-5161-4f98-bf33-b636767054a4"
   },
   "outputs": [
    {
     "name": "stdout",
     "output_type": "stream",
     "text": [
      "EXPERIMENT 2: Testing different data types\n",
      "Path = bare\n",
      "Start loading and preprocessing\n",
      "[PosixPath('bare/part10'), PosixPath('bare/part9'), PosixPath('bare/part8'), PosixPath('bare/part7'), PosixPath('bare/part6'), PosixPath('bare/part5'), PosixPath('bare/part4'), PosixPath('bare/part3'), PosixPath('bare/part2'), PosixPath('bare/part1')]\n",
      "creating RDDs\n",
      "/content/drive/My Drive/BigData2020/data/lingspam_public/bare/part10\n",
      "/content/drive/My Drive/BigData2020/data/lingspam_public/bare/part9\n",
      "/content/drive/My Drive/BigData2020/data/lingspam_public/bare/part8\n",
      "/content/drive/My Drive/BigData2020/data/lingspam_public/bare/part7\n",
      "/content/drive/My Drive/BigData2020/data/lingspam_public/bare/part6\n",
      "/content/drive/My Drive/BigData2020/data/lingspam_public/bare/part5\n",
      "/content/drive/My Drive/BigData2020/data/lingspam_public/bare/part4\n",
      "/content/drive/My Drive/BigData2020/data/lingspam_public/bare/part3\n",
      "/content/drive/My Drive/BigData2020/data/lingspam_public/bare/part2\n",
      "/content/drive/My Drive/BigData2020/data/lingspam_public/bare/part1\n",
      "len(rddList) 10\n",
      "[('file:/content/drive/My Drive/BigData2020/data/lingspam_public/bare/part9/8-817msg1.txt', 'Subject: disc : grammar in uk schools\\n\\ni was disturbed to find some traditional fallacies in geoffrey sampson \\'s discussion of the teaching of grammar in schools . though i no longer have a copy of prof . cameron \\'s original post , i do recall the essentials of it , and found that mr . sampson had passed over the valid point it was making in favour of a prescriptivist , \" back to basics \" defense of traditional grammatical education . prof . cameron is perfectly correct in ridiculing the inflexible , rote and prescriptive approach to grammar which is conventionally inflicted on students throughout the english speaking world . the issue of being able to use standard english ( or perhaps _ a _ standard english ) correctly is entirely separate from the reliance on traditional \" rules \" which are frequently unhelpful , and often grossly inaccurate . the rule regarding finishing sentences with prepositions , as one glaring example , is a total misunderstanding of both the history of english , and an unhelpful preoccupation for effective communication . > strikes me as akin to suggesting that teachers of > french should forget about teaching the past participle of \" vivre \" in > favour of getting their pupils to develop considered opinions about > the theories of derrida . though mr . sampson has used an interesting rhetorical image here , it is in fact a false analogy . teaching students to get a feel for the function of grammar and language is a far cry from teaching them gb theory or hpsg . an understanding of how sentences , clauses , verb tenses , adverbs , etc . actually function on a basic level is a very reasonable educational goal , and far more worthy then just creating a bunch of \" do n\\'t \" \\'s and \" never \" \\'s and calling that grammatical education . > beyond that , though , teaching orthography and grammar at school level > has a much broader educational value . one of the lessons we all have > to learn is that nothing big and worthwhile is ever achieved in this > life without careful attention to endless tedious and often arbitrary > details . at the risk of making a gross national stereotype , i feel compelled to quote george bernard shaw : \" the british believe that they are moral when they are merely uncomfortable . \" this notion that education ( or work , for that matter ) must be unpleasant to produce results is a puritanical relic . in my personal experience , the very successful people tend to be precisely the ones who know how to delegate , slough off or avoid wasting time with \" tedious and arbitrary details \" . ( please read the preceding paragraph with the tongue planted in the general vicinity of the cheek . ) in a spirit of greater seriousness though , i would like to second prof . cameron \\'s call to educators to abandon prescriptive , rule-based approaches to grammar , and embrace a more general approach based on a comprehension of more fluid and meaningful principles . i believe that the result would be students with a better grasp of the form and function of language rather than a shallow and inflexible mastery of facile rules . - - - - marc hamann\\n')]\n",
      "creating RDD union\n",
      "Finished loading and preprocessing\n",
      "Starting to train the model\n",
      "Trained LR (model1)\n",
      "Trained NB (model2)\n",
      "Trained SVM (model3)\n",
      "Training\n",
      "Accuracy 100.0% (data items: 2604, correct: 2604)\n",
      "Testing\n",
      "Accuracy 96.9% (data items: 289, correct: 280)\n",
      "Training\n",
      "Accuracy 97.4% (data items: 2604, correct: 2536)\n",
      "Testing\n",
      "Accuracy 96.2% (data items: 289, correct: 278)\n",
      "Training\n",
      "Accuracy 83.4% (data items: 2604, correct: 2171)\n",
      "Testing\n",
      "Accuracy 83.4% (data items: 289, correct: 241)\n",
      "Path = stop\n",
      "Start loading and preprocessing\n",
      "[PosixPath('bare/part10'), PosixPath('bare/part9'), PosixPath('bare/part8'), PosixPath('bare/part7'), PosixPath('bare/part6'), PosixPath('bare/part5'), PosixPath('bare/part4'), PosixPath('bare/part3'), PosixPath('bare/part2'), PosixPath('bare/part1')]\n",
      "creating RDDs\n",
      "/content/drive/My Drive/BigData2020/data/lingspam_public/bare/part10\n",
      "/content/drive/My Drive/BigData2020/data/lingspam_public/bare/part9\n",
      "/content/drive/My Drive/BigData2020/data/lingspam_public/bare/part8\n",
      "/content/drive/My Drive/BigData2020/data/lingspam_public/bare/part7\n",
      "/content/drive/My Drive/BigData2020/data/lingspam_public/bare/part6\n",
      "/content/drive/My Drive/BigData2020/data/lingspam_public/bare/part5\n",
      "/content/drive/My Drive/BigData2020/data/lingspam_public/bare/part4\n",
      "/content/drive/My Drive/BigData2020/data/lingspam_public/bare/part3\n",
      "/content/drive/My Drive/BigData2020/data/lingspam_public/bare/part2\n",
      "/content/drive/My Drive/BigData2020/data/lingspam_public/bare/part1\n",
      "len(rddList) 10\n",
      "[('file:/content/drive/My Drive/BigData2020/data/lingspam_public/bare/part9/8-817msg1.txt', 'Subject: disc : grammar in uk schools\\n\\ni was disturbed to find some traditional fallacies in geoffrey sampson \\'s discussion of the teaching of grammar in schools . though i no longer have a copy of prof . cameron \\'s original post , i do recall the essentials of it , and found that mr . sampson had passed over the valid point it was making in favour of a prescriptivist , \" back to basics \" defense of traditional grammatical education . prof . cameron is perfectly correct in ridiculing the inflexible , rote and prescriptive approach to grammar which is conventionally inflicted on students throughout the english speaking world . the issue of being able to use standard english ( or perhaps _ a _ standard english ) correctly is entirely separate from the reliance on traditional \" rules \" which are frequently unhelpful , and often grossly inaccurate . the rule regarding finishing sentences with prepositions , as one glaring example , is a total misunderstanding of both the history of english , and an unhelpful preoccupation for effective communication . > strikes me as akin to suggesting that teachers of > french should forget about teaching the past participle of \" vivre \" in > favour of getting their pupils to develop considered opinions about > the theories of derrida . though mr . sampson has used an interesting rhetorical image here , it is in fact a false analogy . teaching students to get a feel for the function of grammar and language is a far cry from teaching them gb theory or hpsg . an understanding of how sentences , clauses , verb tenses , adverbs , etc . actually function on a basic level is a very reasonable educational goal , and far more worthy then just creating a bunch of \" do n\\'t \" \\'s and \" never \" \\'s and calling that grammatical education . > beyond that , though , teaching orthography and grammar at school level > has a much broader educational value . one of the lessons we all have > to learn is that nothing big and worthwhile is ever achieved in this > life without careful attention to endless tedious and often arbitrary > details . at the risk of making a gross national stereotype , i feel compelled to quote george bernard shaw : \" the british believe that they are moral when they are merely uncomfortable . \" this notion that education ( or work , for that matter ) must be unpleasant to produce results is a puritanical relic . in my personal experience , the very successful people tend to be precisely the ones who know how to delegate , slough off or avoid wasting time with \" tedious and arbitrary details \" . ( please read the preceding paragraph with the tongue planted in the general vicinity of the cheek . ) in a spirit of greater seriousness though , i would like to second prof . cameron \\'s call to educators to abandon prescriptive , rule-based approaches to grammar , and embrace a more general approach based on a comprehension of more fluid and meaningful principles . i believe that the result would be students with a better grasp of the form and function of language rather than a shallow and inflexible mastery of facile rules . - - - - marc hamann\\n')]\n",
      "creating RDD union\n",
      "Finished loading and preprocessing\n",
      "Starting to train the model\n",
      "Trained LR (model1)\n",
      "Trained NB (model2)\n",
      "Trained SVM (model3)\n",
      "Training\n",
      "Accuracy 100.0% (data items: 2604, correct: 2604)\n",
      "Testing\n",
      "Accuracy 96.9% (data items: 289, correct: 280)\n",
      "Training\n",
      "Accuracy 97.4% (data items: 2604, correct: 2536)\n",
      "Testing\n",
      "Accuracy 96.2% (data items: 289, correct: 278)\n",
      "Training\n",
      "Accuracy 83.4% (data items: 2604, correct: 2171)\n",
      "Testing\n",
      "Accuracy 83.4% (data items: 289, correct: 241)\n",
      "Path = lemm\n",
      "Start loading and preprocessing\n",
      "[PosixPath('bare/part10'), PosixPath('bare/part9'), PosixPath('bare/part8'), PosixPath('bare/part7'), PosixPath('bare/part6'), PosixPath('bare/part5'), PosixPath('bare/part4'), PosixPath('bare/part3'), PosixPath('bare/part2'), PosixPath('bare/part1')]\n",
      "creating RDDs\n",
      "/content/drive/My Drive/BigData2020/data/lingspam_public/bare/part10\n",
      "/content/drive/My Drive/BigData2020/data/lingspam_public/bare/part9\n",
      "/content/drive/My Drive/BigData2020/data/lingspam_public/bare/part8\n",
      "/content/drive/My Drive/BigData2020/data/lingspam_public/bare/part7\n",
      "/content/drive/My Drive/BigData2020/data/lingspam_public/bare/part6\n",
      "/content/drive/My Drive/BigData2020/data/lingspam_public/bare/part5\n",
      "/content/drive/My Drive/BigData2020/data/lingspam_public/bare/part4\n",
      "/content/drive/My Drive/BigData2020/data/lingspam_public/bare/part3\n",
      "/content/drive/My Drive/BigData2020/data/lingspam_public/bare/part2\n",
      "/content/drive/My Drive/BigData2020/data/lingspam_public/bare/part1\n",
      "len(rddList) 10\n",
      "[('file:/content/drive/My Drive/BigData2020/data/lingspam_public/bare/part9/8-817msg1.txt', 'Subject: disc : grammar in uk schools\\n\\ni was disturbed to find some traditional fallacies in geoffrey sampson \\'s discussion of the teaching of grammar in schools . though i no longer have a copy of prof . cameron \\'s original post , i do recall the essentials of it , and found that mr . sampson had passed over the valid point it was making in favour of a prescriptivist , \" back to basics \" defense of traditional grammatical education . prof . cameron is perfectly correct in ridiculing the inflexible , rote and prescriptive approach to grammar which is conventionally inflicted on students throughout the english speaking world . the issue of being able to use standard english ( or perhaps _ a _ standard english ) correctly is entirely separate from the reliance on traditional \" rules \" which are frequently unhelpful , and often grossly inaccurate . the rule regarding finishing sentences with prepositions , as one glaring example , is a total misunderstanding of both the history of english , and an unhelpful preoccupation for effective communication . > strikes me as akin to suggesting that teachers of > french should forget about teaching the past participle of \" vivre \" in > favour of getting their pupils to develop considered opinions about > the theories of derrida . though mr . sampson has used an interesting rhetorical image here , it is in fact a false analogy . teaching students to get a feel for the function of grammar and language is a far cry from teaching them gb theory or hpsg . an understanding of how sentences , clauses , verb tenses , adverbs , etc . actually function on a basic level is a very reasonable educational goal , and far more worthy then just creating a bunch of \" do n\\'t \" \\'s and \" never \" \\'s and calling that grammatical education . > beyond that , though , teaching orthography and grammar at school level > has a much broader educational value . one of the lessons we all have > to learn is that nothing big and worthwhile is ever achieved in this > life without careful attention to endless tedious and often arbitrary > details . at the risk of making a gross national stereotype , i feel compelled to quote george bernard shaw : \" the british believe that they are moral when they are merely uncomfortable . \" this notion that education ( or work , for that matter ) must be unpleasant to produce results is a puritanical relic . in my personal experience , the very successful people tend to be precisely the ones who know how to delegate , slough off or avoid wasting time with \" tedious and arbitrary details \" . ( please read the preceding paragraph with the tongue planted in the general vicinity of the cheek . ) in a spirit of greater seriousness though , i would like to second prof . cameron \\'s call to educators to abandon prescriptive , rule-based approaches to grammar , and embrace a more general approach based on a comprehension of more fluid and meaningful principles . i believe that the result would be students with a better grasp of the form and function of language rather than a shallow and inflexible mastery of facile rules . - - - - marc hamann\\n')]\n",
      "creating RDD union\n",
      "Finished loading and preprocessing\n",
      "Starting to train the model\n",
      "Trained LR (model1)\n",
      "Trained NB (model2)\n",
      "Trained SVM (model3)\n",
      "Training\n",
      "Accuracy 100.0% (data items: 2604, correct: 2604)\n",
      "Testing\n",
      "Accuracy 96.9% (data items: 289, correct: 280)\n",
      "Training\n",
      "Accuracy 97.4% (data items: 2604, correct: 2536)\n",
      "Testing\n",
      "Accuracy 96.2% (data items: 289, correct: 278)\n",
      "Training\n",
      "Accuracy 83.4% (data items: 2604, correct: 2171)\n",
      "Testing\n",
      "Accuracy 83.4% (data items: 289, correct: 241)\n",
      "Path = lemm_stop\n",
      "Start loading and preprocessing\n",
      "[PosixPath('bare/part10'), PosixPath('bare/part9'), PosixPath('bare/part8'), PosixPath('bare/part7'), PosixPath('bare/part6'), PosixPath('bare/part5'), PosixPath('bare/part4'), PosixPath('bare/part3'), PosixPath('bare/part2'), PosixPath('bare/part1')]\n",
      "creating RDDs\n",
      "/content/drive/My Drive/BigData2020/data/lingspam_public/bare/part10\n",
      "/content/drive/My Drive/BigData2020/data/lingspam_public/bare/part9\n",
      "/content/drive/My Drive/BigData2020/data/lingspam_public/bare/part8\n",
      "/content/drive/My Drive/BigData2020/data/lingspam_public/bare/part7\n",
      "/content/drive/My Drive/BigData2020/data/lingspam_public/bare/part6\n",
      "/content/drive/My Drive/BigData2020/data/lingspam_public/bare/part5\n",
      "/content/drive/My Drive/BigData2020/data/lingspam_public/bare/part4\n",
      "/content/drive/My Drive/BigData2020/data/lingspam_public/bare/part3\n",
      "/content/drive/My Drive/BigData2020/data/lingspam_public/bare/part2\n",
      "/content/drive/My Drive/BigData2020/data/lingspam_public/bare/part1\n",
      "len(rddList) 10\n",
      "[('file:/content/drive/My Drive/BigData2020/data/lingspam_public/bare/part9/8-817msg1.txt', 'Subject: disc : grammar in uk schools\\n\\ni was disturbed to find some traditional fallacies in geoffrey sampson \\'s discussion of the teaching of grammar in schools . though i no longer have a copy of prof . cameron \\'s original post , i do recall the essentials of it , and found that mr . sampson had passed over the valid point it was making in favour of a prescriptivist , \" back to basics \" defense of traditional grammatical education . prof . cameron is perfectly correct in ridiculing the inflexible , rote and prescriptive approach to grammar which is conventionally inflicted on students throughout the english speaking world . the issue of being able to use standard english ( or perhaps _ a _ standard english ) correctly is entirely separate from the reliance on traditional \" rules \" which are frequently unhelpful , and often grossly inaccurate . the rule regarding finishing sentences with prepositions , as one glaring example , is a total misunderstanding of both the history of english , and an unhelpful preoccupation for effective communication . > strikes me as akin to suggesting that teachers of > french should forget about teaching the past participle of \" vivre \" in > favour of getting their pupils to develop considered opinions about > the theories of derrida . though mr . sampson has used an interesting rhetorical image here , it is in fact a false analogy . teaching students to get a feel for the function of grammar and language is a far cry from teaching them gb theory or hpsg . an understanding of how sentences , clauses , verb tenses , adverbs , etc . actually function on a basic level is a very reasonable educational goal , and far more worthy then just creating a bunch of \" do n\\'t \" \\'s and \" never \" \\'s and calling that grammatical education . > beyond that , though , teaching orthography and grammar at school level > has a much broader educational value . one of the lessons we all have > to learn is that nothing big and worthwhile is ever achieved in this > life without careful attention to endless tedious and often arbitrary > details . at the risk of making a gross national stereotype , i feel compelled to quote george bernard shaw : \" the british believe that they are moral when they are merely uncomfortable . \" this notion that education ( or work , for that matter ) must be unpleasant to produce results is a puritanical relic . in my personal experience , the very successful people tend to be precisely the ones who know how to delegate , slough off or avoid wasting time with \" tedious and arbitrary details \" . ( please read the preceding paragraph with the tongue planted in the general vicinity of the cheek . ) in a spirit of greater seriousness though , i would like to second prof . cameron \\'s call to educators to abandon prescriptive , rule-based approaches to grammar , and embrace a more general approach based on a comprehension of more fluid and meaningful principles . i believe that the result would be students with a better grasp of the form and function of language rather than a shallow and inflexible mastery of facile rules . - - - - marc hamann\\n')]\n",
      "creating RDD union\n",
      "Finished loading and preprocessing\n",
      "Starting to train the model\n",
      "Trained LR (model1)\n",
      "Trained NB (model2)\n",
      "Trained SVM (model3)\n",
      "Training\n",
      "Accuracy 100.0% (data items: 2604, correct: 2604)\n",
      "Testing\n",
      "Accuracy 96.9% (data items: 289, correct: 280)\n",
      "Training\n",
      "Accuracy 97.4% (data items: 2604, correct: 2536)\n",
      "Testing\n",
      "Accuracy 96.2% (data items: 289, correct: 278)\n",
      "Training\n",
      "Accuracy 83.4% (data items: 2604, correct: 2171)\n",
      "Testing\n",
      "Accuracy 83.4% (data items: 289, correct: 241)\n"
     ]
    }
   ],
   "source": [
    "n = 3000\n",
    "typeFolders = ['bare', 'stop', 'lemm', 'lemm_stop']\n",
    "print('EXPERIMENT 2: Testing different data types')\n",
    "results_preprocessing = []\n",
    "for folder in typeFolders:\n",
    "    print('Path = {}'.format(folder))\n",
    "    result = {'n': n, 't': folder}\n",
    "    result['acc'] = trainTestFolder(folder, n)\n",
    "    results_preprocessing.append(result)\n",
    "\n",
    "# Add comments on the performance in a cell below. "
   ]
  },
  {
   "cell_type": "markdown",
   "metadata": {
    "colab_type": "text",
    "id": "l9n4ecn_Z3_k"
   },
   "source": [
    "*describe your findings here*\n",
    "\n",
    "**Performance across different algorithms**\n",
    "\n",
    "The models performance can be arranged in the following order, with 1 being best.\n",
    "1.\tLogistic regression\n",
    "2.\tNaïve Bayes\n",
    "3.\tSupport Vector Machines\n",
    "\n",
    "Logistic regression attempts to build a  linear classifier. Naïve Bayes is a popular technique for span filtering which uses bag of words features to identify spam [1]. This is usually a baseline technique for spam classification. Support vector machines attempt to build a hyperplane for classification. When N< 300, there is no marked difference between the 2 models. But once N=300, Logistic regression outperforms the other 2 models. Logistic regression generally performs better than naïve bayes when there is collinearity[2] as naïve bayes assumes independence between features. This may not be true for text data though.  After N reaches 3000, they have similar accuracy. On crossing that mark, there is a decrease in performance for naïve bayes potentially because of the noise introduced with larger vector size.\n",
    "\n",
    "**Difference in training and testing accuracies**\n",
    "\n",
    "The goal of machine learning is generalization in identifying patterns. Here, we have performed spam classification using machine learning classification techniques. When there is a huge difference between training and testing, this may be a result of overfitting. Here the difference is minimal and hence we can rule out overfitting. An interesting  point is the accuracy of 83.4% which is seen to appear across different experiments across algorithms which almost aligns to the percentage of non-spam messages in the dataset. The poorest performing models are defaulting prediction to non-spam and thus the accuracy of 83.4%.\n",
    "\n",
    "**Testing different vector sizes**\n",
    "\n",
    "As the size of the vectors increased, the better is the accuracy generally. We can clearly see as the size is increased from 3,30,300,3000 the accuracy improved across most algorithms. This would be attributed to the availability of more relevant features for the models to separate the classes more reasonably. \n",
    "Once the vector size is increased from 3000 to 30000 the performance has decreased, this could be the result of noisy features being included. Hence the optimum vector size for this dataset is 3000.\n",
    "Testing different data types\n",
    "There are 4 different data types we run the experiments on :\n",
    "•\tbare: No lemmatization and no stop words removal.\n",
    "•\tlemm: Lemmatization and no stop words removal.\n",
    "•\tlemm_stop: Lemmatization and stop words removal.\n",
    "•\tstop: No lemmatization but with stop words removal.\n",
    "Clearly, we can see the impact of pre-processing on performance. The best performance being for the data which was both stemmed and lemmatised. These steps removed the noise and bucketed words with similar meaning.\n",
    "\n",
    "**Class imbalance problem**\n",
    "\n",
    "As per the original paper[3], there are 481 spam messages and 2412 legitimate messages. Accuracy is generally not the best measure and F1 score is a better metric in such cases. In the paper they have also suggested a memory-based filter approach  that performs on average better, particularly when the misclassification cost for non-spam messages is high. In the  explored approach for this coursework, there is no misclassification cost as well. These are additional steps which may can be incorporated into the modelling to improve the performance.\n",
    "\n",
    "**References**\n",
    "\n",
    "[1] https://en.wikipedia.org/wiki/Naive_Bayes_spam_filtering\n",
    "\n",
    "[2] https://towardsdatascience.com/\n",
    "comparative-study-on-classic-machine-learning-algorithms-24f9ff6ab222\n",
    "\n",
    "[3] Georgios Sakkis, Ion Androutsopoulos, Georgios Paliouras, Vangelis Karkaletsis, Constantine D. Spyropoulos, and Panagiotis Stamatopoulos. 2003. A Memory-Based Approach to Anti-Spam Filtering for Mailing Lists. Inf. Retr. 6, 1 (January 2003), 49–73. DOI:https://doi.org/10.1023/A:1022948414856\n",
    "\n"
   ]
  }
 ],
 "metadata": {
  "colab": {
   "collapsed_sections": [],
   "name": "Copy of Coursework-Part1.ipynb",
   "provenance": []
  },
  "kernelspec": {
   "display_name": "Python 3",
   "language": "python",
   "name": "python3"
  },
  "language_info": {
   "codemirror_mode": {
    "name": "ipython",
    "version": 3
   },
   "file_extension": ".py",
   "mimetype": "text/x-python",
   "name": "python",
   "nbconvert_exporter": "python",
   "pygments_lexer": "ipython3",
   "version": "3.7.3"
  }
 },
 "nbformat": 4,
 "nbformat_minor": 1
}
